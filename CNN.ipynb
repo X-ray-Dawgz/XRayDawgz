{
 "cells": [
  {
   "cell_type": "markdown",
   "metadata": {
    "colab_type": "text",
    "id": "view-in-github"
   },
   "source": [
    "<a href=\"https://colab.research.google.com/github/X-ray-Dawgz/XRayDawgz/blob/master/CNN.ipynb\" target=\"_parent\"><img src=\"https://colab.research.google.com/assets/colab-badge.svg\" alt=\"Open In Colab\"/></a>"
   ]
  },
  {
   "cell_type": "code",
   "execution_count": 1,
   "metadata": {
    "colab": {
     "base_uri": "https://localhost:8080/",
     "height": 34
    },
    "colab_type": "code",
    "id": "OG7HT2z-o8l4",
    "outputId": "90c9e438-b7c5-41f9-a335-1bb7a40ca5b3"
   },
   "outputs": [
    {
     "name": "stdout",
     "output_type": "stream",
     "text": [
      "fatal: destination path 'XRayDawgz' already exists and is not an empty directory.\n"
     ]
    }
   ],
   "source": [
    "!git clone -b rob https://github.com/X-ray-Dawgz/XRayDawgz.git"
   ]
  },
  {
   "cell_type": "code",
   "execution_count": 2,
   "metadata": {
    "colab": {
     "base_uri": "https://localhost:8080/",
     "height": 97
    },
    "colab_type": "code",
    "id": "cs5GsJaDo-l-",
    "outputId": "f843e792-34c8-4277-b673-9e165f927869"
   },
   "outputs": [
    {
     "name": "stderr",
     "output_type": "stream",
     "text": [
      "Using TensorFlow backend.\n"
     ]
    },
    {
     "data": {
      "text/html": [
       "<p style=\"color: red;\">\n",
       "The default version of TensorFlow in Colab will soon switch to TensorFlow 2.x.<br>\n",
       "We recommend you <a href=\"https://www.tensorflow.org/guide/migrate\" target=\"_blank\">upgrade</a> now \n",
       "or ensure your notebook will continue to use TensorFlow 1.x via the <code>%tensorflow_version 1.x</code> magic:\n",
       "<a href=\"https://colab.research.google.com/notebooks/tensorflow_version.ipynb\" target=\"_blank\">more info</a>.</p>\n"
      ],
      "text/plain": [
       "<IPython.core.display.HTML object>"
      ]
     },
     "metadata": {
      "tags": []
     },
     "output_type": "display_data"
    }
   ],
   "source": [
    "from keras.preprocessing.image import ImageDataGenerator\n",
    "from keras.models import Sequential\n",
    "from keras.layers import Conv2D, MaxPooling2D, ZeroPadding2D\n",
    "from keras.layers import Activation, Dropout, Flatten, Dense\n",
    "from keras import backend as K\n",
    "from keras.preprocessing import image\n",
    "\n",
    "import numpy as np\n",
    "import os\n",
    "import matplotlib.pyplot as plt"
   ]
  },
  {
   "cell_type": "code",
   "execution_count": 0,
   "metadata": {
    "colab": {},
    "colab_type": "code",
    "id": "-6_wexe5pUar"
   },
   "outputs": [],
   "source": [
    "# image size\n",
    "img_width, img_height = 432,288\n",
    "# train and test sample sizes\n",
    "train_samples = 665\n",
    "test_samples = 98\n",
    "# set weights\n",
    "epochs = 100\n",
    "batch_size = 20\n",
    "# Directories of train and test data\n",
    "train_dir = 'XRayDawgz/cut_image'\n",
    "test_dir = 'XRayDawgz/Images/Test'"
   ]
  },
  {
   "cell_type": "code",
   "execution_count": 0,
   "metadata": {
    "colab": {},
    "colab_type": "code",
    "id": "3u9i_AnP5FUe"
   },
   "outputs": [],
   "source": [
    "# data image augmentation to create more variation of XRD patterns\n",
    "train_data = ImageDataGenerator(rescale=1. / 255,\n",
    "                                shear_range=0.2,\n",
    "                                zoom_range=0.2,\n",
    "                                horizontal_flip=True)\n",
    "\n",
    "# only resize for test data\n",
    "test_data = ImageDataGenerator(rescale=1. / 255)"
   ]
  },
  {
   "cell_type": "code",
   "execution_count": 5,
   "metadata": {
    "colab": {
     "base_uri": "https://localhost:8080/",
     "height": 34
    },
    "colab_type": "code",
    "id": "RhRTnKoW5yGQ",
    "outputId": "5b88edfa-8c32-4f67-a68f-69ac418d02fe"
   },
   "outputs": [
    {
     "name": "stdout",
     "output_type": "stream",
     "text": [
      "Found 1330 images belonging to 2 classes.\n"
     ]
    }
   ],
   "source": [
    "# import train data consisting of 'binary' or  2 classifications (BCC or FCC) \n",
    "train_gen = train_data.flow_from_directory(train_dir, target_size=(img_width, img_height),\n",
    "                                           batch_size=batch_size,\n",
    "                                           class_mode='binary')"
   ]
  },
  {
   "cell_type": "code",
   "execution_count": 6,
   "metadata": {
    "colab": {
     "base_uri": "https://localhost:8080/",
     "height": 34
    },
    "colab_type": "code",
    "id": "ozuoZJrf6ROO",
    "outputId": "04d9b406-663e-434c-922b-310085a0b746"
   },
   "outputs": [
    {
     "name": "stdout",
     "output_type": "stream",
     "text": [
      "Found 196 images belonging to 2 classes.\n"
     ]
    }
   ],
   "source": [
    "# import test data consisting of 'binary' or  2 classifications (BCC or FCC) \n",
    "test_gen = test_data.flow_from_directory(test_dir, target_size=(img_width, img_height),\n",
    "                                           batch_size=batch_size,\n",
    "                                           class_mode='binary')"
   ]
  },
  {
   "cell_type": "code",
   "execution_count": 7,
   "metadata": {
    "colab": {
     "base_uri": "https://localhost:8080/",
     "height": 836
    },
    "colab_type": "code",
    "id": "e-pS0fGY6q-q",
    "outputId": "e87dc823-2ad5-4ea6-a948-3b87d4c8fc4b"
   },
   "outputs": [
    {
     "name": "stdout",
     "output_type": "stream",
     "text": [
      "WARNING:tensorflow:From /usr/local/lib/python3.6/dist-packages/keras/backend/tensorflow_backend.py:66: The name tf.get_default_graph is deprecated. Please use tf.compat.v1.get_default_graph instead.\n",
      "\n",
      "WARNING:tensorflow:From /usr/local/lib/python3.6/dist-packages/keras/backend/tensorflow_backend.py:541: The name tf.placeholder is deprecated. Please use tf.compat.v1.placeholder instead.\n",
      "\n",
      "WARNING:tensorflow:From /usr/local/lib/python3.6/dist-packages/keras/backend/tensorflow_backend.py:4432: The name tf.random_uniform is deprecated. Please use tf.random.uniform instead.\n",
      "\n",
      "WARNING:tensorflow:From /usr/local/lib/python3.6/dist-packages/keras/backend/tensorflow_backend.py:4267: The name tf.nn.max_pool is deprecated. Please use tf.nn.max_pool2d instead.\n",
      "\n",
      "WARNING:tensorflow:From /usr/local/lib/python3.6/dist-packages/keras/backend/tensorflow_backend.py:148: The name tf.placeholder_with_default is deprecated. Please use tf.compat.v1.placeholder_with_default instead.\n",
      "\n",
      "WARNING:tensorflow:From /usr/local/lib/python3.6/dist-packages/keras/backend/tensorflow_backend.py:3733: calling dropout (from tensorflow.python.ops.nn_ops) with keep_prob is deprecated and will be removed in a future version.\n",
      "Instructions for updating:\n",
      "Please use `rate` instead of `keep_prob`. Rate should be set to `rate = 1 - keep_prob`.\n",
      "Model: \"sequential_1\"\n",
      "_________________________________________________________________\n",
      "Layer (type)                 Output Shape              Param #   \n",
      "=================================================================\n",
      "conv2d_1 (Conv2D)            (None, 430, 286, 32)      896       \n",
      "_________________________________________________________________\n",
      "activation_1 (Activation)    (None, 430, 286, 32)      0         \n",
      "_________________________________________________________________\n",
      "max_pooling2d_1 (MaxPooling2 (None, 215, 143, 32)      0         \n",
      "_________________________________________________________________\n",
      "conv2d_2 (Conv2D)            (None, 213, 141, 64)      18496     \n",
      "_________________________________________________________________\n",
      "activation_2 (Activation)    (None, 213, 141, 64)      0         \n",
      "_________________________________________________________________\n",
      "max_pooling2d_2 (MaxPooling2 (None, 106, 70, 64)       0         \n",
      "_________________________________________________________________\n",
      "zero_padding2d_1 (ZeroPaddin (None, 108, 72, 64)       0         \n",
      "_________________________________________________________________\n",
      "flatten_1 (Flatten)          (None, 497664)            0         \n",
      "_________________________________________________________________\n",
      "dense_1 (Dense)              (None, 64)                31850560  \n",
      "_________________________________________________________________\n",
      "activation_3 (Activation)    (None, 64)                0         \n",
      "_________________________________________________________________\n",
      "dropout_1 (Dropout)          (None, 64)                0         \n",
      "_________________________________________________________________\n",
      "dense_2 (Dense)              (None, 1)                 65        \n",
      "_________________________________________________________________\n",
      "activation_4 (Activation)    (None, 1)                 0         \n",
      "=================================================================\n",
      "Total params: 31,870,017\n",
      "Trainable params: 31,870,017\n",
      "Non-trainable params: 0\n",
      "_________________________________________________________________\n"
     ]
    }
   ],
   "source": [
    "# build CNN model\n",
    "model = Sequential()\n",
    "# extract features by iterating across image\n",
    "#model.add(Conv2D(32, (3, 3), input_shape=(img_width, img_height, 3)))\n",
    "#model.add(Activation('relu'))\n",
    "#model.add(MaxPooling2D(pool_size=(2, 2)))\n",
    "model.add(Conv2D(32, (3, 3), input_shape=(img_width, img_height, 3)))\n",
    "model.add(Activation('relu'))\n",
    "model.add(MaxPooling2D(pool_size=(2, 2)))\n",
    "model.add(Conv2D(64, (3, 3), input_shape=(img_width, img_height, 3)))\n",
    "model.add(Activation('relu'))\n",
    "model.add(MaxPooling2D(pool_size=(2, 2)))\n",
    "model.add(ZeroPadding2D((1,1)))\n",
    "#convert 3D features to 1D feature vectors\n",
    "model.add(Flatten())\n",
    "model.add(Dense(64))\n",
    "model.add(Activation('relu'))\n",
    "model.add(Dropout(0.5))\n",
    "model.add(Dense(1))\n",
    "model.add(Activation('sigmoid'))\n",
    "\n",
    "model.summary()"
   ]
  },
  {
   "cell_type": "code",
   "execution_count": 8,
   "metadata": {
    "colab": {
     "base_uri": "https://localhost:8080/",
     "height": 156
    },
    "colab_type": "code",
    "id": "nwGDqUXQ-bnN",
    "outputId": "1741a8ff-2c8a-459b-dcf6-5789eb7ea27a"
   },
   "outputs": [
    {
     "name": "stdout",
     "output_type": "stream",
     "text": [
      "WARNING:tensorflow:From /usr/local/lib/python3.6/dist-packages/keras/optimizers.py:793: The name tf.train.Optimizer is deprecated. Please use tf.compat.v1.train.Optimizer instead.\n",
      "\n",
      "WARNING:tensorflow:From /usr/local/lib/python3.6/dist-packages/keras/backend/tensorflow_backend.py:3657: The name tf.log is deprecated. Please use tf.math.log instead.\n",
      "\n",
      "WARNING:tensorflow:From /usr/local/lib/python3.6/dist-packages/tensorflow_core/python/ops/nn_impl.py:183: where (from tensorflow.python.ops.array_ops) is deprecated and will be removed in a future version.\n",
      "Instructions for updating:\n",
      "Use tf.where in 2.0, which has the same broadcast rule as np.where\n"
     ]
    }
   ],
   "source": [
    "# compile model\n",
    "model.compile(loss='binary_crossentropy', optimizer='rmsprop', metrics=['accuracy'])\n",
    "# try adam"
   ]
  },
  {
   "cell_type": "code",
   "execution_count": 9,
   "metadata": {
    "colab": {
     "base_uri": "https://localhost:8080/",
     "height": 1000
    },
    "colab_type": "code",
    "id": "vKRcjJYh_ALN",
    "outputId": "3e5f4b35-a723-4492-ae03-46039aba0c1e"
   },
   "outputs": [
    {
     "name": "stdout",
     "output_type": "stream",
     "text": [
      "WARNING:tensorflow:From /usr/local/lib/python3.6/dist-packages/keras/backend/tensorflow_backend.py:1033: The name tf.assign_add is deprecated. Please use tf.compat.v1.assign_add instead.\n",
      "\n",
      "WARNING:tensorflow:From /usr/local/lib/python3.6/dist-packages/keras/backend/tensorflow_backend.py:1020: The name tf.assign is deprecated. Please use tf.compat.v1.assign instead.\n",
      "\n",
      "WARNING:tensorflow:From /usr/local/lib/python3.6/dist-packages/keras/backend/tensorflow_backend.py:3005: The name tf.Session is deprecated. Please use tf.compat.v1.Session instead.\n",
      "\n",
      "Epoch 1/100\n",
      "WARNING:tensorflow:From /usr/local/lib/python3.6/dist-packages/keras/backend/tensorflow_backend.py:190: The name tf.get_default_session is deprecated. Please use tf.compat.v1.get_default_session instead.\n",
      "\n",
      "WARNING:tensorflow:From /usr/local/lib/python3.6/dist-packages/keras/backend/tensorflow_backend.py:197: The name tf.ConfigProto is deprecated. Please use tf.compat.v1.ConfigProto instead.\n",
      "\n",
      "WARNING:tensorflow:From /usr/local/lib/python3.6/dist-packages/keras/backend/tensorflow_backend.py:207: The name tf.global_variables is deprecated. Please use tf.compat.v1.global_variables instead.\n",
      "\n",
      "WARNING:tensorflow:From /usr/local/lib/python3.6/dist-packages/keras/backend/tensorflow_backend.py:216: The name tf.is_variable_initialized is deprecated. Please use tf.compat.v1.is_variable_initialized instead.\n",
      "\n",
      "WARNING:tensorflow:From /usr/local/lib/python3.6/dist-packages/keras/backend/tensorflow_backend.py:223: The name tf.variables_initializer is deprecated. Please use tf.compat.v1.variables_initializer instead.\n",
      "\n",
      "33/33 [==============================] - 20s 591ms/step - loss: 2.3928 - acc: 0.5074 - val_loss: 0.6938 - val_acc: 0.4375\n",
      "Epoch 2/100\n",
      "33/33 [==============================] - 17s 526ms/step - loss: 0.7223 - acc: 0.5409 - val_loss: 0.6800 - val_acc: 0.5500\n",
      "Epoch 3/100\n",
      "33/33 [==============================] - 17s 516ms/step - loss: 0.7195 - acc: 0.5440 - val_loss: 0.6918 - val_acc: 0.5395\n",
      "Epoch 4/100\n",
      "33/33 [==============================] - 18s 533ms/step - loss: 0.7318 - acc: 0.5439 - val_loss: 0.6946 - val_acc: 0.4750\n",
      "Epoch 5/100\n",
      "33/33 [==============================] - 17s 528ms/step - loss: 0.7271 - acc: 0.5197 - val_loss: 0.7275 - val_acc: 0.5132\n",
      "Epoch 6/100\n",
      "33/33 [==============================] - 17s 523ms/step - loss: 0.7035 - acc: 0.5471 - val_loss: 0.7079 - val_acc: 0.4375\n",
      "Epoch 7/100\n",
      "33/33 [==============================] - 17s 520ms/step - loss: 0.7595 - acc: 0.5788 - val_loss: 0.6517 - val_acc: 0.7375\n",
      "Epoch 8/100\n",
      "33/33 [==============================] - 17s 530ms/step - loss: 0.7175 - acc: 0.6000 - val_loss: 0.6979 - val_acc: 0.4868\n",
      "Epoch 9/100\n",
      "33/33 [==============================] - 18s 536ms/step - loss: 0.7470 - acc: 0.6182 - val_loss: 0.6747 - val_acc: 0.5375\n",
      "Epoch 10/100\n",
      "33/33 [==============================] - 17s 520ms/step - loss: 0.7699 - acc: 0.6317 - val_loss: 1.2324 - val_acc: 0.4737\n",
      "Epoch 11/100\n",
      "33/33 [==============================] - 18s 541ms/step - loss: 0.7706 - acc: 0.6788 - val_loss: 0.7637 - val_acc: 0.5125\n",
      "Epoch 12/100\n",
      "33/33 [==============================] - 17s 523ms/step - loss: 0.8133 - acc: 0.6408 - val_loss: 0.7263 - val_acc: 0.6375\n",
      "Epoch 13/100\n",
      "33/33 [==============================] - 17s 525ms/step - loss: 0.7002 - acc: 0.6727 - val_loss: 0.8930 - val_acc: 0.5658\n",
      "Epoch 14/100\n",
      "33/33 [==============================] - 18s 540ms/step - loss: 0.6452 - acc: 0.6667 - val_loss: 0.8238 - val_acc: 0.6000\n",
      "Epoch 15/100\n",
      "33/33 [==============================] - 17s 529ms/step - loss: 0.6162 - acc: 0.6970 - val_loss: 0.5514 - val_acc: 0.7237\n",
      "Epoch 16/100\n",
      "33/33 [==============================] - 18s 538ms/step - loss: 0.7112 - acc: 0.6971 - val_loss: 0.6379 - val_acc: 0.7125\n",
      "Epoch 17/100\n",
      "33/33 [==============================] - 18s 531ms/step - loss: 0.6060 - acc: 0.7091 - val_loss: 0.8221 - val_acc: 0.6000\n",
      "Epoch 18/100\n",
      "33/33 [==============================] - 18s 541ms/step - loss: 0.5710 - acc: 0.7152 - val_loss: 0.7043 - val_acc: 0.5000\n",
      "Epoch 19/100\n",
      "33/33 [==============================] - 17s 528ms/step - loss: 0.5630 - acc: 0.7440 - val_loss: 1.0323 - val_acc: 0.6375\n",
      "Epoch 20/100\n",
      "33/33 [==============================] - 18s 539ms/step - loss: 0.5959 - acc: 0.7258 - val_loss: 0.7638 - val_acc: 0.6053\n",
      "Epoch 21/100\n",
      "33/33 [==============================] - 18s 546ms/step - loss: 0.6382 - acc: 0.7409 - val_loss: 0.9292 - val_acc: 0.6500\n",
      "Epoch 22/100\n",
      "33/33 [==============================] - 18s 532ms/step - loss: 0.5368 - acc: 0.7545 - val_loss: 0.8985 - val_acc: 0.5875\n",
      "Epoch 23/100\n",
      "33/33 [==============================] - 18s 534ms/step - loss: 0.7764 - acc: 0.7137 - val_loss: 0.7431 - val_acc: 0.6053\n",
      "Epoch 24/100\n",
      "33/33 [==============================] - 18s 531ms/step - loss: 0.8175 - acc: 0.7317 - val_loss: 0.6864 - val_acc: 0.7375\n",
      "Epoch 25/100\n",
      "33/33 [==============================] - 18s 531ms/step - loss: 0.5200 - acc: 0.7455 - val_loss: 0.8969 - val_acc: 0.6711\n",
      "Epoch 26/100\n",
      "33/33 [==============================] - 18s 536ms/step - loss: 0.5391 - acc: 0.7757 - val_loss: 0.8379 - val_acc: 0.6625\n",
      "Epoch 27/100\n",
      "33/33 [==============================] - 17s 528ms/step - loss: 0.5562 - acc: 0.7167 - val_loss: 0.8977 - val_acc: 0.6250\n",
      "Epoch 28/100\n",
      "33/33 [==============================] - 17s 529ms/step - loss: 0.4976 - acc: 0.7637 - val_loss: 0.8497 - val_acc: 0.6447\n",
      "Epoch 29/100\n",
      "33/33 [==============================] - 18s 546ms/step - loss: 0.5466 - acc: 0.7318 - val_loss: 0.5496 - val_acc: 0.8250\n",
      "Epoch 30/100\n",
      "33/33 [==============================] - 18s 533ms/step - loss: 0.5364 - acc: 0.7758 - val_loss: 0.7436 - val_acc: 0.6974\n",
      "Epoch 31/100\n",
      "33/33 [==============================] - 18s 537ms/step - loss: 0.5302 - acc: 0.7409 - val_loss: 0.8319 - val_acc: 0.6625\n",
      "Epoch 32/100\n",
      "33/33 [==============================] - 18s 539ms/step - loss: 0.5301 - acc: 0.7530 - val_loss: 0.6483 - val_acc: 0.7250\n",
      "Epoch 33/100\n",
      "33/33 [==============================] - 18s 534ms/step - loss: 0.4695 - acc: 0.7925 - val_loss: 0.9715 - val_acc: 0.6447\n",
      "Epoch 34/100\n",
      "33/33 [==============================] - 18s 534ms/step - loss: 0.5931 - acc: 0.7516 - val_loss: 0.6720 - val_acc: 0.7125\n",
      "Epoch 35/100\n",
      "33/33 [==============================] - 18s 540ms/step - loss: 0.6573 - acc: 0.7561 - val_loss: 0.6460 - val_acc: 0.7368\n",
      "Epoch 36/100\n",
      "33/33 [==============================] - 18s 546ms/step - loss: 0.4832 - acc: 0.7713 - val_loss: 0.9824 - val_acc: 0.7125\n",
      "Epoch 37/100\n",
      "33/33 [==============================] - 18s 546ms/step - loss: 0.4729 - acc: 0.8167 - val_loss: 0.6855 - val_acc: 0.7500\n",
      "Epoch 38/100\n",
      "33/33 [==============================] - 18s 543ms/step - loss: 0.4782 - acc: 0.8136 - val_loss: 0.7939 - val_acc: 0.7368\n",
      "Epoch 39/100\n",
      "33/33 [==============================] - 18s 537ms/step - loss: 0.5338 - acc: 0.7742 - val_loss: 0.6856 - val_acc: 0.8375\n",
      "Epoch 40/100\n",
      "33/33 [==============================] - 18s 531ms/step - loss: 0.4826 - acc: 0.7758 - val_loss: 0.8773 - val_acc: 0.6974\n",
      "Epoch 41/100\n",
      "33/33 [==============================] - 18s 560ms/step - loss: 0.5323 - acc: 0.7682 - val_loss: 0.5792 - val_acc: 0.7875\n",
      "Epoch 42/100\n",
      "33/33 [==============================] - 18s 537ms/step - loss: 0.4542 - acc: 0.7894 - val_loss: 0.6346 - val_acc: 0.7500\n",
      "Epoch 43/100\n",
      "33/33 [==============================] - 18s 534ms/step - loss: 0.7566 - acc: 0.7622 - val_loss: 0.6697 - val_acc: 0.7500\n",
      "Epoch 44/100\n",
      "33/33 [==============================] - 18s 544ms/step - loss: 0.4352 - acc: 0.8030 - val_loss: 0.7041 - val_acc: 0.7750\n",
      "Epoch 45/100\n",
      "33/33 [==============================] - 18s 545ms/step - loss: 0.5015 - acc: 0.7803 - val_loss: 1.1109 - val_acc: 0.6579\n",
      "Epoch 46/100\n",
      "33/33 [==============================] - 18s 545ms/step - loss: 0.4531 - acc: 0.7939 - val_loss: 0.6103 - val_acc: 0.8125\n",
      "Epoch 47/100\n",
      "33/33 [==============================] - 18s 537ms/step - loss: 0.5253 - acc: 0.7803 - val_loss: 0.8208 - val_acc: 0.7000\n",
      "Epoch 48/100\n",
      "33/33 [==============================] - 18s 535ms/step - loss: 0.4456 - acc: 0.8152 - val_loss: 0.5358 - val_acc: 0.7632\n",
      "Epoch 49/100\n",
      "33/33 [==============================] - 18s 545ms/step - loss: 0.4600 - acc: 0.8076 - val_loss: 0.5051 - val_acc: 0.6625\n",
      "Epoch 50/100\n",
      "33/33 [==============================] - 18s 541ms/step - loss: 0.4488 - acc: 0.8121 - val_loss: 1.0560 - val_acc: 0.6711\n",
      "Epoch 51/100\n",
      "33/33 [==============================] - 18s 547ms/step - loss: 0.5244 - acc: 0.7939 - val_loss: 0.6576 - val_acc: 0.7875\n",
      "Epoch 52/100\n",
      "33/33 [==============================] - 18s 541ms/step - loss: 0.4447 - acc: 0.7985 - val_loss: 1.4727 - val_acc: 0.7375\n",
      "Epoch 53/100\n",
      "33/33 [==============================] - 18s 543ms/step - loss: 0.5038 - acc: 0.7925 - val_loss: 0.6660 - val_acc: 0.7237\n",
      "Epoch 54/100\n",
      "33/33 [==============================] - 18s 549ms/step - loss: 0.4502 - acc: 0.8045 - val_loss: 0.7627 - val_acc: 0.7500\n",
      "Epoch 55/100\n",
      "33/33 [==============================] - 18s 540ms/step - loss: 0.4318 - acc: 0.8106 - val_loss: 0.5545 - val_acc: 0.7632\n",
      "Epoch 56/100\n",
      "33/33 [==============================] - 18s 548ms/step - loss: 0.4688 - acc: 0.8000 - val_loss: 1.0782 - val_acc: 0.7000\n",
      "Epoch 57/100\n",
      "33/33 [==============================] - 17s 527ms/step - loss: 0.3947 - acc: 0.8425 - val_loss: 0.4778 - val_acc: 0.7375\n",
      "Epoch 58/100\n",
      "33/33 [==============================] - 18s 548ms/step - loss: 0.5742 - acc: 0.7924 - val_loss: 0.5357 - val_acc: 0.7763\n",
      "Epoch 59/100\n",
      "33/33 [==============================] - 18s 550ms/step - loss: 0.4810 - acc: 0.8106 - val_loss: 0.5417 - val_acc: 0.8125\n",
      "Epoch 60/100\n",
      "33/33 [==============================] - 18s 544ms/step - loss: 0.4467 - acc: 0.8152 - val_loss: 0.6219 - val_acc: 0.6184\n",
      "Epoch 61/100\n",
      "33/33 [==============================] - 18s 545ms/step - loss: 0.4616 - acc: 0.8106 - val_loss: 0.6018 - val_acc: 0.8125\n",
      "Epoch 62/100\n",
      "33/33 [==============================] - 18s 536ms/step - loss: 0.4744 - acc: 0.7744 - val_loss: 0.6217 - val_acc: 0.7500\n",
      "Epoch 63/100\n",
      "33/33 [==============================] - 18s 550ms/step - loss: 0.4323 - acc: 0.8091 - val_loss: 0.9613 - val_acc: 0.6842\n",
      "Epoch 64/100\n",
      "33/33 [==============================] - 18s 544ms/step - loss: 0.3946 - acc: 0.8364 - val_loss: 1.1800 - val_acc: 0.7375\n",
      "Epoch 65/100\n",
      "33/33 [==============================] - 17s 527ms/step - loss: 0.4575 - acc: 0.8182 - val_loss: 0.8969 - val_acc: 0.6974\n",
      "Epoch 66/100\n",
      "33/33 [==============================] - 18s 537ms/step - loss: 0.4283 - acc: 0.8243 - val_loss: 0.5850 - val_acc: 0.7625\n",
      "Epoch 67/100\n",
      "33/33 [==============================] - 18s 532ms/step - loss: 0.4527 - acc: 0.8045 - val_loss: 0.8259 - val_acc: 0.7375\n",
      "Epoch 68/100\n",
      "33/33 [==============================] - 18s 531ms/step - loss: 0.4546 - acc: 0.8242 - val_loss: 0.4979 - val_acc: 0.8158\n",
      "Epoch 69/100\n",
      "33/33 [==============================] - 18s 531ms/step - loss: 0.4069 - acc: 0.8439 - val_loss: 0.5946 - val_acc: 0.7875\n",
      "Epoch 70/100\n",
      "33/33 [==============================] - 17s 514ms/step - loss: 0.4184 - acc: 0.8439 - val_loss: 0.7556 - val_acc: 0.7368\n",
      "Epoch 71/100\n",
      "33/33 [==============================] - 18s 533ms/step - loss: 0.4279 - acc: 0.8364 - val_loss: 0.5152 - val_acc: 0.8250\n",
      "Epoch 72/100\n",
      "33/33 [==============================] - 18s 534ms/step - loss: 0.4581 - acc: 0.8258 - val_loss: 0.6256 - val_acc: 0.7875\n",
      "Epoch 73/100\n",
      "33/33 [==============================] - 17s 527ms/step - loss: 0.4330 - acc: 0.8334 - val_loss: 0.9646 - val_acc: 0.6579\n",
      "Epoch 74/100\n",
      "33/33 [==============================] - 17s 523ms/step - loss: 0.5517 - acc: 0.8030 - val_loss: 0.5819 - val_acc: 0.6875\n",
      "Epoch 75/100\n",
      "33/33 [==============================] - 17s 514ms/step - loss: 0.4101 - acc: 0.8439 - val_loss: 0.5955 - val_acc: 0.8421\n",
      "Epoch 76/100\n",
      "33/33 [==============================] - 17s 524ms/step - loss: 0.4039 - acc: 0.8106 - val_loss: 0.7483 - val_acc: 0.7375\n",
      "Epoch 77/100\n",
      "33/33 [==============================] - 17s 520ms/step - loss: 0.4165 - acc: 0.8288 - val_loss: 0.9075 - val_acc: 0.8125\n",
      "Epoch 78/100\n",
      "33/33 [==============================] - 17s 526ms/step - loss: 0.4490 - acc: 0.8076 - val_loss: 0.6644 - val_acc: 0.8026\n",
      "Epoch 79/100\n",
      "33/33 [==============================] - 17s 523ms/step - loss: 0.3941 - acc: 0.8424 - val_loss: 0.7883 - val_acc: 0.7625\n",
      "Epoch 80/100\n",
      "33/33 [==============================] - 17s 507ms/step - loss: 0.4452 - acc: 0.8257 - val_loss: 0.5758 - val_acc: 0.7895\n",
      "Epoch 81/100\n",
      "33/33 [==============================] - 17s 526ms/step - loss: 0.4433 - acc: 0.8091 - val_loss: 1.1516 - val_acc: 0.7250\n",
      "Epoch 82/100\n",
      "33/33 [==============================] - 17s 518ms/step - loss: 0.3505 - acc: 0.8530 - val_loss: 0.9484 - val_acc: 0.7750\n",
      "Epoch 83/100\n",
      "33/33 [==============================] - 17s 523ms/step - loss: 0.5038 - acc: 0.8091 - val_loss: 1.0343 - val_acc: 0.8421\n",
      "Epoch 84/100\n",
      "33/33 [==============================] - 17s 520ms/step - loss: 0.3921 - acc: 0.8576 - val_loss: 0.9268 - val_acc: 0.5500\n",
      "Epoch 85/100\n",
      "33/33 [==============================] - 17s 513ms/step - loss: 0.4779 - acc: 0.8136 - val_loss: 0.7328 - val_acc: 0.7895\n",
      "Epoch 86/100\n",
      "33/33 [==============================] - 17s 515ms/step - loss: 0.4486 - acc: 0.8182 - val_loss: 0.6249 - val_acc: 0.7625\n",
      "Epoch 87/100\n",
      "33/33 [==============================] - 17s 521ms/step - loss: 0.4074 - acc: 0.8409 - val_loss: 0.7787 - val_acc: 0.7625\n",
      "Epoch 88/100\n",
      "33/33 [==============================] - 17s 520ms/step - loss: 0.4130 - acc: 0.8394 - val_loss: 0.5792 - val_acc: 0.7895\n",
      "Epoch 89/100\n",
      "33/33 [==============================] - 17s 514ms/step - loss: 0.4169 - acc: 0.8288 - val_loss: 0.6650 - val_acc: 0.7625\n",
      "Epoch 90/100\n",
      "33/33 [==============================] - 17s 524ms/step - loss: 0.4646 - acc: 0.8197 - val_loss: 0.6006 - val_acc: 0.7895\n",
      "Epoch 91/100\n",
      "33/33 [==============================] - 17s 530ms/step - loss: 0.4008 - acc: 0.8364 - val_loss: 0.6057 - val_acc: 0.7375\n",
      "Epoch 92/100\n",
      "33/33 [==============================] - 17s 504ms/step - loss: 0.3986 - acc: 0.8378 - val_loss: 0.9062 - val_acc: 0.7375\n",
      "Epoch 93/100\n",
      "33/33 [==============================] - 17s 523ms/step - loss: 0.4068 - acc: 0.8348 - val_loss: 0.5733 - val_acc: 0.8289\n",
      "Epoch 94/100\n",
      "33/33 [==============================] - 17s 520ms/step - loss: 0.4233 - acc: 0.8333 - val_loss: 0.9317 - val_acc: 0.7250\n",
      "Epoch 95/100\n",
      "33/33 [==============================] - 17s 513ms/step - loss: 0.4110 - acc: 0.8394 - val_loss: 0.9061 - val_acc: 0.7632\n",
      "Epoch 96/100\n",
      "33/33 [==============================] - 17s 514ms/step - loss: 0.4467 - acc: 0.8304 - val_loss: 0.7034 - val_acc: 0.7875\n",
      "Epoch 97/100\n",
      "33/33 [==============================] - 17s 516ms/step - loss: 0.4322 - acc: 0.8348 - val_loss: 0.6283 - val_acc: 0.7875\n",
      "Epoch 98/100\n",
      "33/33 [==============================] - 17s 510ms/step - loss: 0.3537 - acc: 0.8606 - val_loss: 0.9464 - val_acc: 0.7105\n",
      "Epoch 99/100\n",
      "33/33 [==============================] - 17s 518ms/step - loss: 0.3974 - acc: 0.8455 - val_loss: 0.4276 - val_acc: 0.8375\n",
      "Epoch 100/100\n",
      "33/33 [==============================] - 17s 515ms/step - loss: 0.4976 - acc: 0.8167 - val_loss: 0.5548 - val_acc: 0.8289\n"
     ]
    }
   ],
   "source": [
    "cs_classification = model.fit_generator(train_gen,\n",
    "                    steps_per_epoch=train_samples // batch_size,\n",
    "                    epochs=epochs,\n",
    "                    validation_data=test_gen,\n",
    "                    validation_steps=test_samples // batch_size)"
   ]
  },
  {
   "cell_type": "code",
   "execution_count": 20,
   "metadata": {
    "colab": {
     "base_uri": "https://localhost:8080/",
     "height": 363
    },
    "colab_type": "code",
    "id": "w64u0ucLGVjv",
    "outputId": "e55f6f5c-3113-45f0-8b84-1005929e35fd"
   },
   "outputs": [
    {
     "name": "stdout",
     "output_type": "stream",
     "text": [
      "loss: 0.35\n",
      "Validation loss: 0.43\n",
      "Accuracy: 0.86\n",
      "Validation Accuracy: 0.84\n"
     ]
    },
    {
     "data": {
      "image/png": "[encoded data removed]",
      "text/plain": [
       "<Figure size 432x288 with 1 Axes>"
      ]
     },
     "metadata": {
      "tags": []
     },
     "output_type": "display_data"
    }
   ],
   "source": [
    "x = np.arange(0, epochs)\n",
    "plt.figure()\n",
    "plt.xlabel(\"Epoch Number\")\n",
    "plt.ylabel(\"Loss/Accuracy\")\n",
    "plt.plot(x, cs_classification.history[\"loss\"], label=\"Training Loss\")\n",
    "plt.plot(x, cs_classification.history[\"val_loss\"], label=\"Validation Loss\")\n",
    "plt.plot(x, cs_classification.history[\"acc\"], label=\"Training Accuracy\")\n",
    "plt.plot(x, cs_classification.history[\"val_acc\"], label=\"Validation Accuracy\")\n",
    "plt.title(\"CNN Model Loss and Accuracy\")\n",
    "plt.legend(loc=\"upper right\")\n",
    "print('loss: %.2f' %(np.amin(cs_classification.history[\"loss\"])))\n",
    "print('Validation loss: %.2f' %(np.amin(cs_classification.history[\"val_loss\"])))\n",
    "print('Accuracy: %.2f' %(np.amax(cs_classification.history[\"acc\"])))\n",
    "print('Validation Accuracy: %.2f' %(np.amax(cs_classification.history[\"val_acc\"])))"
   ]
  },
  {
   "cell_type": "code",
   "execution_count": 11,
   "metadata": {
    "colab": {
     "base_uri": "https://localhost:8080/",
     "height": 51
    },
    "colab_type": "code",
    "id": "Z4P_quHq_qi2",
    "outputId": "835ca4ce-bee0-45aa-b2b7-1f22f9b59edb"
   },
   "outputs": [
    {
     "name": "stdout",
     "output_type": "stream",
     "text": [
      "BCC prediction accuracy: 70.41%\n",
      "FCC prediction accuracy: 87.76%\n"
     ]
    }
   ],
   "source": [
    "BCC_test_dir = 'XRayDawgz/Images/Test/BCC_test/'\n",
    "FCC_test_dir = 'XRayDawgz/Images/Test/FCC_test/'\n",
    "\n",
    "BCC_Prediction = np.zeros(test_samples)\n",
    "FCC_Prediction = np.zeros(test_samples)\n",
    "i=0\n",
    "correct_count=0\n",
    "for file in os.listdir(BCC_test_dir):\n",
    "  predict_img = image.load_img(BCC_test_dir + file, target_size = (img_width, img_height))\n",
    "  predict_img = image.img_to_array(predict_img)\n",
    "  predict_img = np.expand_dims(predict_img, axis = 0)\n",
    "  result = model.predict(predict_img)\n",
    "  if np.round(result, 0) == 0:\n",
    "    correct_count += 1\n",
    "  else:\n",
    "    pass\n",
    "print('BCC prediction accuracy: %.2f' % ((correct_count / test_samples)*100) + '%')\n",
    "\n",
    "i=0\n",
    "correct_count=0\n",
    "for file in os.listdir(FCC_test_dir):\n",
    "  predict_img = image.load_img(FCC_test_dir + file, target_size = (img_width, img_height))\n",
    "  predict_img = image.img_to_array(predict_img)\n",
    "  predict_img = np.expand_dims(predict_img, axis = 0)\n",
    "  result = model.predict(predict_img)\n",
    "  if np.round(result, 0) == 1:\n",
    "    correct_count += 1\n",
    "  else:\n",
    "    pass\n",
    "print('FCC prediction accuracy: %.2f' % ((correct_count / test_samples)*100) + '%')"
   ]
  },
  {
   "cell_type": "code",
   "execution_count": 12,
   "metadata": {
    "colab": {
     "base_uri": "https://localhost:8080/",
     "height": 374
    },
    "colab_type": "code",
    "id": "6gqkAFXYElL-",
    "outputId": "daa76da1-7e49-4d4d-ef28-f6186b2336c6"
   },
   "outputs": [
    {
     "ename": "FileNotFoundError",
     "evalue": "ignored",
     "output_type": "error",
     "traceback": [
      "\u001b[0;31m---------------------------------------------------------------------------\u001b[0m",
      "\u001b[0;31mFileNotFoundError\u001b[0m                         Traceback (most recent call last)",
      "\u001b[0;32m<ipython-input-12-4f318ad603ff>\u001b[0m in \u001b[0;36m<module>\u001b[0;34m()\u001b[0m\n\u001b[0;32m----> 1\u001b[0;31m \u001b[0mpredict_img\u001b[0m \u001b[0;34m=\u001b[0m \u001b[0mimage\u001b[0m\u001b[0;34m.\u001b[0m\u001b[0mload_img\u001b[0m\u001b[0;34m(\u001b[0m\u001b[0;34m'download.png'\u001b[0m\u001b[0;34m,\u001b[0m \u001b[0mtarget_size\u001b[0m \u001b[0;34m=\u001b[0m \u001b[0;34m(\u001b[0m\u001b[0mimg_width\u001b[0m\u001b[0;34m,\u001b[0m \u001b[0mimg_height\u001b[0m\u001b[0;34m)\u001b[0m\u001b[0;34m)\u001b[0m\u001b[0;34m\u001b[0m\u001b[0;34m\u001b[0m\u001b[0m\n\u001b[0m\u001b[1;32m      2\u001b[0m \u001b[0mpredict_img\u001b[0m \u001b[0;34m=\u001b[0m \u001b[0mimage\u001b[0m\u001b[0;34m.\u001b[0m\u001b[0mimg_to_array\u001b[0m\u001b[0;34m(\u001b[0m\u001b[0mpredict_img\u001b[0m\u001b[0;34m)\u001b[0m\u001b[0;34m\u001b[0m\u001b[0;34m\u001b[0m\u001b[0m\n\u001b[1;32m      3\u001b[0m \u001b[0mpredict_img\u001b[0m \u001b[0;34m=\u001b[0m \u001b[0mnp\u001b[0m\u001b[0;34m.\u001b[0m\u001b[0mexpand_dims\u001b[0m\u001b[0;34m(\u001b[0m\u001b[0mpredict_img\u001b[0m\u001b[0;34m,\u001b[0m \u001b[0maxis\u001b[0m \u001b[0;34m=\u001b[0m \u001b[0;36m0\u001b[0m\u001b[0;34m)\u001b[0m\u001b[0;34m\u001b[0m\u001b[0;34m\u001b[0m\u001b[0m\n\u001b[1;32m      4\u001b[0m \u001b[0;34m\u001b[0m\u001b[0m\n\u001b[1;32m      5\u001b[0m \u001b[0mresult\u001b[0m \u001b[0;34m=\u001b[0m \u001b[0mnp\u001b[0m\u001b[0;34m.\u001b[0m\u001b[0mround\u001b[0m\u001b[0;34m(\u001b[0m\u001b[0mmodel\u001b[0m\u001b[0;34m.\u001b[0m\u001b[0mpredict\u001b[0m\u001b[0;34m(\u001b[0m\u001b[0mpredict_img\u001b[0m\u001b[0;34m)\u001b[0m\u001b[0;34m,\u001b[0m \u001b[0mdecimals\u001b[0m\u001b[0;34m=\u001b[0m\u001b[0;36m0\u001b[0m\u001b[0;34m)\u001b[0m\u001b[0;34m\u001b[0m\u001b[0;34m\u001b[0m\u001b[0m\n",
      "\u001b[0;32m/usr/local/lib/python3.6/dist-packages/keras_preprocessing/image/utils.py\u001b[0m in \u001b[0;36mload_img\u001b[0;34m(path, grayscale, color_mode, target_size, interpolation)\u001b[0m\n\u001b[1;32m    108\u001b[0m         raise ImportError('Could not import PIL.Image. '\n\u001b[1;32m    109\u001b[0m                           'The use of `load_img` requires PIL.')\n\u001b[0;32m--> 110\u001b[0;31m     \u001b[0mimg\u001b[0m \u001b[0;34m=\u001b[0m \u001b[0mpil_image\u001b[0m\u001b[0;34m.\u001b[0m\u001b[0mopen\u001b[0m\u001b[0;34m(\u001b[0m\u001b[0mpath\u001b[0m\u001b[0;34m)\u001b[0m\u001b[0;34m\u001b[0m\u001b[0;34m\u001b[0m\u001b[0m\n\u001b[0m\u001b[1;32m    111\u001b[0m     \u001b[0;32mif\u001b[0m \u001b[0mcolor_mode\u001b[0m \u001b[0;34m==\u001b[0m \u001b[0;34m'grayscale'\u001b[0m\u001b[0;34m:\u001b[0m\u001b[0;34m\u001b[0m\u001b[0;34m\u001b[0m\u001b[0m\n\u001b[1;32m    112\u001b[0m         \u001b[0;32mif\u001b[0m \u001b[0mimg\u001b[0m\u001b[0;34m.\u001b[0m\u001b[0mmode\u001b[0m \u001b[0;34m!=\u001b[0m \u001b[0;34m'L'\u001b[0m\u001b[0;34m:\u001b[0m\u001b[0;34m\u001b[0m\u001b[0;34m\u001b[0m\u001b[0m\n",
      "\u001b[0;32m/usr/local/lib/python3.6/dist-packages/PIL/Image.py\u001b[0m in \u001b[0;36mopen\u001b[0;34m(fp, mode)\u001b[0m\n\u001b[1;32m   2764\u001b[0m \u001b[0;34m\u001b[0m\u001b[0m\n\u001b[1;32m   2765\u001b[0m     \u001b[0;32mif\u001b[0m \u001b[0mfilename\u001b[0m\u001b[0;34m:\u001b[0m\u001b[0;34m\u001b[0m\u001b[0;34m\u001b[0m\u001b[0m\n\u001b[0;32m-> 2766\u001b[0;31m         \u001b[0mfp\u001b[0m \u001b[0;34m=\u001b[0m \u001b[0mbuiltins\u001b[0m\u001b[0;34m.\u001b[0m\u001b[0mopen\u001b[0m\u001b[0;34m(\u001b[0m\u001b[0mfilename\u001b[0m\u001b[0;34m,\u001b[0m \u001b[0;34m\"rb\"\u001b[0m\u001b[0;34m)\u001b[0m\u001b[0;34m\u001b[0m\u001b[0;34m\u001b[0m\u001b[0m\n\u001b[0m\u001b[1;32m   2767\u001b[0m         \u001b[0mexclusive_fp\u001b[0m \u001b[0;34m=\u001b[0m \u001b[0;32mTrue\u001b[0m\u001b[0;34m\u001b[0m\u001b[0;34m\u001b[0m\u001b[0m\n\u001b[1;32m   2768\u001b[0m \u001b[0;34m\u001b[0m\u001b[0m\n",
      "\u001b[0;31mFileNotFoundError\u001b[0m: [Errno 2] No such file or directory: 'download.png'"
     ]
    }
   ],
   "source": [
    "predict_img = image.load_img('download.png', target_size = (img_width, img_height))\n",
    "predict_img = image.img_to_array(predict_img)\n",
    "predict_img = np.expand_dims(predict_img, axis = 0)\n",
    "\n",
    "result = np.round(model.predict(predict_img), decimals=0)\n",
    "print(np.round(result, decimals=0))"
   ]
  },
  {
   "cell_type": "code",
   "execution_count": 0,
   "metadata": {
    "colab": {},
    "colab_type": "code",
    "id": "bP9ZIlONIoH3"
   },
   "outputs": [],
   "source": []
  }
 ],
 "metadata": {
  "accelerator": "GPU",
  "colab": {
   "authorship_tag": "ABX9TyPiWFRWIGy+WVl56MCL6ZSA",
   "collapsed_sections": [],
   "include_colab_link": true,
   "name": "CNN.ipynb",
   "provenance": []
  },
  "kernelspec": {
   "display_name": "Python 3",
   "language": "python",
   "name": "python3"
  },
  "language_info": {
   "codemirror_mode": {
    "name": "ipython",
    "version": 3
   },
   "file_extension": ".py",
   "mimetype": "text/x-python",
   "name": "python",
   "nbconvert_exporter": "python",
   "pygments_lexer": "ipython3",
   "version": "3.7.6"
  }
 },
 "nbformat": 4,
 "nbformat_minor": 1
}
