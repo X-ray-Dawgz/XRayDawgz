{
  "nbformat": 4,
  "nbformat_minor": 0,
  "metadata": {
    "colab": {
      "name": "CNN.ipynb",
      "provenance": [],
      "collapsed_sections": [],
      "authorship_tag": "ABX9TyPDbP1Ev2t7517gjcGRLKQN",
      "include_colab_link": true
    },
    "kernelspec": {
      "name": "python3",
      "display_name": "Python 3"
    },
    "accelerator": "GPU"
  },
  "cells": [
    {
      "cell_type": "markdown",
      "metadata": {
        "id": "view-in-github",
        "colab_type": "text"
      },
      "source": [
        "<a href=\"https://colab.research.google.com/github/X-ray-Dawgz/XRayDawgz/blob/master/CNN.ipynb\" target=\"_parent\"><img src=\"https://colab.research.google.com/assets/colab-badge.svg\" alt=\"Open In Colab\"/></a>"
      ]
    },
    {
      "cell_type": "code",
      "metadata": {
        "id": "OG7HT2z-o8l4",
        "colab_type": "code",
        "outputId": "81a9f538-7a40-4395-c769-2c5860909a5a",
        "colab": {
          "base_uri": "https://localhost:8080/",
          "height": 34
        }
      },
      "source": [
        "!git clone -b rob https://github.com/X-ray-Dawgz/XRayDawgz.git"
      ],
      "execution_count": 1,
      "outputs": [
        {
          "output_type": "stream",
          "text": [
            "fatal: destination path 'XRayDawgz' already exists and is not an empty directory.\n"
          ],
          "name": "stdout"
        }
      ]
    },
    {
      "cell_type": "code",
      "metadata": {
        "id": "cs5GsJaDo-l-",
        "colab_type": "code",
        "colab": {
          "base_uri": "https://localhost:8080/",
          "height": 97
        },
        "outputId": "2c39456b-f45b-499a-f98c-33b3bb580769"
      },
      "source": [
        "from keras.preprocessing.image import ImageDataGenerator\n",
        "from keras.models import Sequential\n",
        "from keras.layers import Conv2D, MaxPooling2D, ZeroPadding2D\n",
        "from keras.layers import Activation, Dropout, Flatten, Dense\n",
        "from keras import backend as K\n",
        "from keras.preprocessing import image\n",
        "\n",
        "import numpy as np\n",
        "import os"
      ],
      "execution_count": 2,
      "outputs": [
        {
          "output_type": "stream",
          "text": [
            "Using TensorFlow backend.\n"
          ],
          "name": "stderr"
        },
        {
          "output_type": "display_data",
          "data": {
            "text/html": [
              "<p style=\"color: red;\">\n",
              "The default version of TensorFlow in Colab will soon switch to TensorFlow 2.x.<br>\n",
              "We recommend you <a href=\"https://www.tensorflow.org/guide/migrate\" target=\"_blank\">upgrade</a> now \n",
              "or ensure your notebook will continue to use TensorFlow 1.x via the <code>%tensorflow_version 1.x</code> magic:\n",
              "<a href=\"https://colab.research.google.com/notebooks/tensorflow_version.ipynb\" target=\"_blank\">more info</a>.</p>\n"
            ],
            "text/plain": [
              "<IPython.core.display.HTML object>"
            ]
          },
          "metadata": {
            "tags": []
          }
        }
      ]
    },
    {
      "cell_type": "code",
      "metadata": {
        "id": "-6_wexe5pUar",
        "colab_type": "code",
        "colab": {}
      },
      "source": [
        "# image size\n",
        "img_width, img_height = 432,288\n",
        "# train and test sample sizes\n",
        "train_samples = 665\n",
        "test_samples = 98\n",
        "# set weights\n",
        "epochs = 75\n",
        "batch_size = 20\n",
        "# Directories of train and test data\n",
        "train_dir = 'XRayDawgz/Images/Train'\n",
        "test_dir = 'XRayDawgz/Images/Test'"
      ],
      "execution_count": 0,
      "outputs": []
    },
    {
      "cell_type": "code",
      "metadata": {
        "id": "3u9i_AnP5FUe",
        "colab_type": "code",
        "colab": {}
      },
      "source": [
        "# data image augmentation to create more variation of XRD patterns\n",
        "train_data = ImageDataGenerator(rescale=1. / 255,\n",
        "                                shear_range=0.2,\n",
        "                                zoom_range=0.2,\n",
        "                                horizontal_flip=True)\n",
        "\n",
        "# only resize for test data\n",
        "test_data = ImageDataGenerator(rescale=1. / 255)"
      ],
      "execution_count": 0,
      "outputs": []
    },
    {
      "cell_type": "code",
      "metadata": {
        "id": "RhRTnKoW5yGQ",
        "colab_type": "code",
        "colab": {
          "base_uri": "https://localhost:8080/",
          "height": 34
        },
        "outputId": "97957042-bcfb-40e7-9a4b-e66ccb3a3536"
      },
      "source": [
        "# import train data consisting of 'binary' or  2 classifications (BCC or FCC) \n",
        "train_gen = train_data.flow_from_directory(train_dir, target_size=(img_width, img_height),\n",
        "                                           batch_size=batch_size,\n",
        "                                           class_mode='binary')"
      ],
      "execution_count": 23,
      "outputs": [
        {
          "output_type": "stream",
          "text": [
            "Found 1330 images belonging to 2 classes.\n"
          ],
          "name": "stdout"
        }
      ]
    },
    {
      "cell_type": "code",
      "metadata": {
        "id": "ozuoZJrf6ROO",
        "colab_type": "code",
        "colab": {
          "base_uri": "https://localhost:8080/",
          "height": 34
        },
        "outputId": "42eb0770-4dd8-4d08-96c5-a2edfcc6cb22"
      },
      "source": [
        "# import test data consisting of 'binary' or  2 classifications (BCC or FCC) \n",
        "test_gen = test_data.flow_from_directory(test_dir, target_size=(img_width, img_height),\n",
        "                                           batch_size=batch_size,\n",
        "                                           class_mode='binary')"
      ],
      "execution_count": 24,
      "outputs": [
        {
          "output_type": "stream",
          "text": [
            "Found 196 images belonging to 2 classes.\n"
          ],
          "name": "stdout"
        }
      ]
    },
    {
      "cell_type": "code",
      "metadata": {
        "id": "e-pS0fGY6q-q",
        "colab_type": "code",
        "colab": {
          "base_uri": "https://localhost:8080/",
          "height": 697
        },
        "outputId": "f079d834-f3de-43a6-f007-7438890d8517"
      },
      "source": [
        "# build CNN model\n",
        "model = Sequential()\n",
        "# extract features by iterating across image\n",
        "model.add(Conv2D(32, (3, 3), input_shape=(img_width, img_height, 3)))\n",
        "model.add(Activation('relu'))\n",
        "model.add(MaxPooling2D(pool_size=(2, 2)))\n",
        "model.add(Conv2D(32, (3, 3), input_shape=(img_width, img_height, 3)))\n",
        "model.add(Activation('relu'))\n",
        "model.add(MaxPooling2D(pool_size=(2, 2)))\n",
        "model.add(Conv2D(64, (3, 3), input_shape=(img_width, img_height, 3)))\n",
        "model.add(Activation('relu'))\n",
        "model.add(MaxPooling2D(pool_size=(2, 2)))\n",
        "model.add(ZeroPadding2D((1,1)))\n",
        "#convert 3D features to 1D feature vectors\n",
        "model.add(Flatten())\n",
        "model.add(Dense(64))\n",
        "model.add(Activation('relu'))\n",
        "model.add(Dropout(0.5))\n",
        "model.add(Dense(1))\n",
        "model.add(Activation('sigmoid'))\n",
        "\n",
        "model.summary()"
      ],
      "execution_count": 25,
      "outputs": [
        {
          "output_type": "stream",
          "text": [
            "Model: \"sequential_4\"\n",
            "_________________________________________________________________\n",
            "Layer (type)                 Output Shape              Param #   \n",
            "=================================================================\n",
            "conv2d_10 (Conv2D)           (None, 430, 286, 32)      896       \n",
            "_________________________________________________________________\n",
            "activation_16 (Activation)   (None, 430, 286, 32)      0         \n",
            "_________________________________________________________________\n",
            "max_pooling2d_10 (MaxPooling (None, 215, 143, 32)      0         \n",
            "_________________________________________________________________\n",
            "conv2d_11 (Conv2D)           (None, 213, 141, 32)      9248      \n",
            "_________________________________________________________________\n",
            "activation_17 (Activation)   (None, 213, 141, 32)      0         \n",
            "_________________________________________________________________\n",
            "max_pooling2d_11 (MaxPooling (None, 106, 70, 32)       0         \n",
            "_________________________________________________________________\n",
            "conv2d_12 (Conv2D)           (None, 104, 68, 64)       18496     \n",
            "_________________________________________________________________\n",
            "activation_18 (Activation)   (None, 104, 68, 64)       0         \n",
            "_________________________________________________________________\n",
            "max_pooling2d_12 (MaxPooling (None, 52, 34, 64)        0         \n",
            "_________________________________________________________________\n",
            "zero_padding2d_4 (ZeroPaddin (None, 54, 36, 64)        0         \n",
            "_________________________________________________________________\n",
            "flatten_4 (Flatten)          (None, 124416)            0         \n",
            "_________________________________________________________________\n",
            "dense_7 (Dense)              (None, 64)                7962688   \n",
            "_________________________________________________________________\n",
            "activation_19 (Activation)   (None, 64)                0         \n",
            "_________________________________________________________________\n",
            "dropout_6 (Dropout)          (None, 64)                0         \n",
            "_________________________________________________________________\n",
            "dense_8 (Dense)              (None, 1)                 65        \n",
            "_________________________________________________________________\n",
            "activation_20 (Activation)   (None, 1)                 0         \n",
            "=================================================================\n",
            "Total params: 7,991,393\n",
            "Trainable params: 7,991,393\n",
            "Non-trainable params: 0\n",
            "_________________________________________________________________\n"
          ],
          "name": "stdout"
        }
      ]
    },
    {
      "cell_type": "code",
      "metadata": {
        "id": "nwGDqUXQ-bnN",
        "colab_type": "code",
        "colab": {}
      },
      "source": [
        "# compile model\n",
        "model.compile(loss='binary_crossentropy', optimizer='rmsprop', metrics=['accuracy'])"
      ],
      "execution_count": 0,
      "outputs": []
    },
    {
      "cell_type": "code",
      "metadata": {
        "id": "vKRcjJYh_ALN",
        "colab_type": "code",
        "colab": {
          "base_uri": "https://localhost:8080/",
          "height": 1000
        },
        "outputId": "192a695b-adb5-41f6-c380-7527ae918d31"
      },
      "source": [
        "model.fit_generator(train_gen,\n",
        "                    steps_per_epoch=train_samples // batch_size,\n",
        "                    epochs=epochs,\n",
        "                    validation_data=test_gen,\n",
        "                    validation_steps=test_samples // batch_size)"
      ],
      "execution_count": 27,
      "outputs": [
        {
          "output_type": "stream",
          "text": [
            "Epoch 1/75\n",
            "33/33 [==============================] - 21s 643ms/step - loss: 5.7916 - acc: 0.5152 - val_loss: 0.7192 - val_acc: 0.4625\n",
            "Epoch 2/75\n",
            "33/33 [==============================] - 20s 601ms/step - loss: 0.6961 - acc: 0.4758 - val_loss: 0.6934 - val_acc: 0.4750\n",
            "Epoch 3/75\n",
            "33/33 [==============================] - 20s 616ms/step - loss: 0.6934 - acc: 0.5045 - val_loss: 0.6932 - val_acc: 0.4868\n",
            "Epoch 4/75\n",
            "33/33 [==============================] - 20s 608ms/step - loss: 0.7275 - acc: 0.4682 - val_loss: 0.6930 - val_acc: 0.4875\n",
            "Epoch 5/75\n",
            "33/33 [==============================] - 20s 608ms/step - loss: 0.7028 - acc: 0.4894 - val_loss: 0.6926 - val_acc: 0.4868\n",
            "Epoch 6/75\n",
            "33/33 [==============================] - 21s 624ms/step - loss: 0.6911 - acc: 0.5364 - val_loss: 0.6932 - val_acc: 0.5125\n",
            "Epoch 7/75\n",
            "33/33 [==============================] - 19s 590ms/step - loss: 0.6950 - acc: 0.4818 - val_loss: 0.6935 - val_acc: 0.4750\n",
            "Epoch 8/75\n",
            "33/33 [==============================] - 20s 612ms/step - loss: 0.7055 - acc: 0.4848 - val_loss: 0.6941 - val_acc: 0.4079\n",
            "Epoch 9/75\n",
            "33/33 [==============================] - 20s 608ms/step - loss: 0.7049 - acc: 0.4956 - val_loss: 0.6924 - val_acc: 0.5125\n",
            "Epoch 10/75\n",
            "33/33 [==============================] - 20s 607ms/step - loss: 0.6950 - acc: 0.4727 - val_loss: 0.6905 - val_acc: 0.5789\n",
            "Epoch 11/75\n",
            "33/33 [==============================] - 21s 622ms/step - loss: 0.7181 - acc: 0.5000 - val_loss: 0.6907 - val_acc: 0.4625\n",
            "Epoch 12/75\n",
            "33/33 [==============================] - 20s 597ms/step - loss: 0.6940 - acc: 0.5288 - val_loss: 0.6972 - val_acc: 0.4375\n",
            "Epoch 13/75\n",
            "33/33 [==============================] - 20s 610ms/step - loss: 0.7042 - acc: 0.5152 - val_loss: 0.6889 - val_acc: 0.5921\n",
            "Epoch 14/75\n",
            "33/33 [==============================] - 20s 601ms/step - loss: 0.6945 - acc: 0.5395 - val_loss: 0.6600 - val_acc: 0.5375\n",
            "Epoch 15/75\n",
            "33/33 [==============================] - 20s 598ms/step - loss: 0.6872 - acc: 0.5697 - val_loss: 0.6067 - val_acc: 0.7105\n",
            "Epoch 16/75\n",
            "33/33 [==============================] - 21s 622ms/step - loss: 0.6857 - acc: 0.5636 - val_loss: 0.6293 - val_acc: 0.7750\n",
            "Epoch 17/75\n",
            "33/33 [==============================] - 20s 612ms/step - loss: 0.6727 - acc: 0.6121 - val_loss: 0.6321 - val_acc: 0.6875\n",
            "Epoch 18/75\n",
            "33/33 [==============================] - 20s 614ms/step - loss: 0.6903 - acc: 0.6303 - val_loss: 0.6133 - val_acc: 0.7895\n",
            "Epoch 19/75\n",
            "33/33 [==============================] - 20s 603ms/step - loss: 0.6219 - acc: 0.6560 - val_loss: 0.6782 - val_acc: 0.6375\n",
            "Epoch 20/75\n",
            "33/33 [==============================] - 20s 610ms/step - loss: 0.6456 - acc: 0.6470 - val_loss: 0.6308 - val_acc: 0.6053\n",
            "Epoch 21/75\n",
            "33/33 [==============================] - 20s 610ms/step - loss: 0.6027 - acc: 0.6698 - val_loss: 0.7337 - val_acc: 0.5250\n",
            "Epoch 22/75\n",
            "33/33 [==============================] - 20s 598ms/step - loss: 0.6393 - acc: 0.6500 - val_loss: 0.6066 - val_acc: 0.7500\n",
            "Epoch 23/75\n",
            "33/33 [==============================] - 20s 617ms/step - loss: 0.6107 - acc: 0.6879 - val_loss: 0.6179 - val_acc: 0.6974\n",
            "Epoch 24/75\n",
            "33/33 [==============================] - 20s 606ms/step - loss: 0.6076 - acc: 0.6924 - val_loss: 0.5515 - val_acc: 0.6875\n",
            "Epoch 25/75\n",
            "33/33 [==============================] - 20s 611ms/step - loss: 0.6249 - acc: 0.6652 - val_loss: 0.5772 - val_acc: 0.8026\n",
            "Epoch 26/75\n",
            "33/33 [==============================] - 21s 623ms/step - loss: 0.5905 - acc: 0.7061 - val_loss: 0.5537 - val_acc: 0.7750\n",
            "Epoch 27/75\n",
            "33/33 [==============================] - 20s 596ms/step - loss: 0.5912 - acc: 0.7045 - val_loss: 0.5140 - val_acc: 0.7750\n",
            "Epoch 28/75\n",
            "33/33 [==============================] - 20s 617ms/step - loss: 0.5796 - acc: 0.7152 - val_loss: 0.5733 - val_acc: 0.6974\n",
            "Epoch 29/75\n",
            "33/33 [==============================] - 20s 608ms/step - loss: 0.5680 - acc: 0.7303 - val_loss: 0.5218 - val_acc: 0.8250\n",
            "Epoch 30/75\n",
            "33/33 [==============================] - 20s 609ms/step - loss: 0.6402 - acc: 0.7091 - val_loss: 0.6070 - val_acc: 0.6974\n",
            "Epoch 31/75\n",
            "33/33 [==============================] - 20s 613ms/step - loss: 0.5586 - acc: 0.7121 - val_loss: 0.4885 - val_acc: 0.7750\n",
            "Epoch 32/75\n",
            "33/33 [==============================] - 20s 605ms/step - loss: 0.5874 - acc: 0.7015 - val_loss: 0.4664 - val_acc: 0.8375\n",
            "Epoch 33/75\n",
            "33/33 [==============================] - 20s 620ms/step - loss: 0.5479 - acc: 0.7439 - val_loss: 0.9199 - val_acc: 0.6053\n",
            "Epoch 34/75\n",
            "33/33 [==============================] - 20s 607ms/step - loss: 0.5425 - acc: 0.7259 - val_loss: 0.4580 - val_acc: 0.7750\n",
            "Epoch 35/75\n",
            "33/33 [==============================] - 20s 608ms/step - loss: 0.5846 - acc: 0.7136 - val_loss: 0.4323 - val_acc: 0.8816\n",
            "Epoch 36/75\n",
            "33/33 [==============================] - 20s 612ms/step - loss: 0.5321 - acc: 0.7469 - val_loss: 0.5784 - val_acc: 0.7750\n",
            "Epoch 37/75\n",
            "33/33 [==============================] - 20s 611ms/step - loss: 0.5556 - acc: 0.7167 - val_loss: 0.4103 - val_acc: 0.8250\n",
            "Epoch 38/75\n",
            "33/33 [==============================] - 20s 616ms/step - loss: 0.5531 - acc: 0.7379 - val_loss: 0.6498 - val_acc: 0.7105\n",
            "Epoch 39/75\n",
            "33/33 [==============================] - 20s 609ms/step - loss: 0.5516 - acc: 0.7288 - val_loss: 0.4259 - val_acc: 0.8625\n",
            "Epoch 40/75\n",
            "33/33 [==============================] - 20s 600ms/step - loss: 0.5433 - acc: 0.7424 - val_loss: 0.4739 - val_acc: 0.8026\n",
            "Epoch 41/75\n",
            "33/33 [==============================] - 20s 621ms/step - loss: 0.5013 - acc: 0.7697 - val_loss: 0.5272 - val_acc: 0.8000\n",
            "Epoch 42/75\n",
            "33/33 [==============================] - 20s 603ms/step - loss: 0.5666 - acc: 0.7242 - val_loss: 0.6665 - val_acc: 0.7000\n",
            "Epoch 43/75\n",
            "33/33 [==============================] - 20s 619ms/step - loss: 0.5533 - acc: 0.7318 - val_loss: 0.5164 - val_acc: 0.8289\n",
            "Epoch 44/75\n",
            "33/33 [==============================] - 21s 628ms/step - loss: 0.4936 - acc: 0.7682 - val_loss: 0.5097 - val_acc: 0.7875\n",
            "Epoch 45/75\n",
            "33/33 [==============================] - 20s 614ms/step - loss: 0.5211 - acc: 0.7530 - val_loss: 0.4410 - val_acc: 0.8421\n",
            "Epoch 46/75\n",
            "33/33 [==============================] - 21s 628ms/step - loss: 0.5152 - acc: 0.7712 - val_loss: 0.4719 - val_acc: 0.8625\n",
            "Epoch 47/75\n",
            "33/33 [==============================] - 21s 623ms/step - loss: 0.5198 - acc: 0.7652 - val_loss: 0.5291 - val_acc: 0.7625\n",
            "Epoch 48/75\n",
            "33/33 [==============================] - 21s 630ms/step - loss: 0.5207 - acc: 0.7530 - val_loss: 0.3900 - val_acc: 0.8553\n",
            "Epoch 49/75\n",
            "33/33 [==============================] - 20s 621ms/step - loss: 0.5030 - acc: 0.7683 - val_loss: 0.5807 - val_acc: 0.7750\n",
            "Epoch 50/75\n",
            "33/33 [==============================] - 21s 624ms/step - loss: 0.4878 - acc: 0.7818 - val_loss: 0.4371 - val_acc: 0.8421\n",
            "Epoch 51/75\n",
            "33/33 [==============================] - 21s 626ms/step - loss: 0.5125 - acc: 0.7773 - val_loss: 0.4847 - val_acc: 0.8125\n",
            "Epoch 52/75\n",
            "33/33 [==============================] - 20s 615ms/step - loss: 0.5366 - acc: 0.7712 - val_loss: 0.4754 - val_acc: 0.8250\n",
            "Epoch 53/75\n",
            "33/33 [==============================] - 20s 619ms/step - loss: 0.4762 - acc: 0.7817 - val_loss: 0.5025 - val_acc: 0.8289\n",
            "Epoch 54/75\n",
            "33/33 [==============================] - 21s 625ms/step - loss: 0.6760 - acc: 0.7409 - val_loss: 0.3312 - val_acc: 0.8875\n",
            "Epoch 55/75\n",
            "33/33 [==============================] - 21s 623ms/step - loss: 0.4681 - acc: 0.7788 - val_loss: 0.7256 - val_acc: 0.7237\n",
            "Epoch 56/75\n",
            "33/33 [==============================] - 21s 629ms/step - loss: 0.5385 - acc: 0.7591 - val_loss: 0.4017 - val_acc: 0.8250\n",
            "Epoch 57/75\n",
            "33/33 [==============================] - 20s 599ms/step - loss: 0.5015 - acc: 0.7591 - val_loss: 0.4008 - val_acc: 0.9000\n",
            "Epoch 58/75\n",
            "33/33 [==============================] - 20s 614ms/step - loss: 0.5175 - acc: 0.7652 - val_loss: 0.4681 - val_acc: 0.8289\n",
            "Epoch 59/75\n",
            "33/33 [==============================] - 20s 612ms/step - loss: 0.5098 - acc: 0.7651 - val_loss: 0.2972 - val_acc: 0.9000\n",
            "Epoch 60/75\n",
            "33/33 [==============================] - 20s 606ms/step - loss: 0.5258 - acc: 0.7575 - val_loss: 0.3550 - val_acc: 0.8684\n",
            "Epoch 61/75\n",
            "33/33 [==============================] - 21s 632ms/step - loss: 0.4713 - acc: 0.7894 - val_loss: 0.6134 - val_acc: 0.7250\n",
            "Epoch 62/75\n",
            "33/33 [==============================] - 20s 615ms/step - loss: 0.4838 - acc: 0.7788 - val_loss: 0.3531 - val_acc: 0.8875\n",
            "Epoch 63/75\n",
            "33/33 [==============================] - 20s 611ms/step - loss: 0.5311 - acc: 0.7517 - val_loss: 0.3682 - val_acc: 0.8553\n",
            "Epoch 64/75\n",
            "33/33 [==============================] - 20s 614ms/step - loss: 0.4983 - acc: 0.7742 - val_loss: 0.4237 - val_acc: 0.7875\n",
            "Epoch 65/75\n",
            "33/33 [==============================] - 20s 616ms/step - loss: 0.4617 - acc: 0.7970 - val_loss: 0.3835 - val_acc: 0.8289\n",
            "Epoch 66/75\n",
            "33/33 [==============================] - 20s 616ms/step - loss: 0.4992 - acc: 0.7788 - val_loss: 0.3244 - val_acc: 0.8875\n",
            "Epoch 67/75\n",
            "33/33 [==============================] - 20s 610ms/step - loss: 0.4697 - acc: 0.7788 - val_loss: 0.6704 - val_acc: 0.7500\n",
            "Epoch 68/75\n",
            "33/33 [==============================] - 20s 609ms/step - loss: 0.4627 - acc: 0.7984 - val_loss: 0.3273 - val_acc: 0.8947\n",
            "Epoch 69/75\n",
            "33/33 [==============================] - 20s 614ms/step - loss: 0.5202 - acc: 0.7682 - val_loss: 0.3585 - val_acc: 0.8750\n",
            "Epoch 70/75\n",
            "33/33 [==============================] - 20s 600ms/step - loss: 0.5218 - acc: 0.7788 - val_loss: 0.4186 - val_acc: 0.8158\n",
            "Epoch 71/75\n",
            "33/33 [==============================] - 20s 620ms/step - loss: 0.4424 - acc: 0.8136 - val_loss: 0.3072 - val_acc: 0.8750\n",
            "Epoch 72/75\n",
            "33/33 [==============================] - 20s 605ms/step - loss: 0.4485 - acc: 0.7880 - val_loss: 0.2880 - val_acc: 0.9125\n",
            "Epoch 73/75\n",
            "33/33 [==============================] - 20s 612ms/step - loss: 0.4821 - acc: 0.7561 - val_loss: 0.4732 - val_acc: 0.8553\n",
            "Epoch 74/75\n",
            "33/33 [==============================] - 20s 607ms/step - loss: 0.4549 - acc: 0.8030 - val_loss: 0.2982 - val_acc: 0.8625\n",
            "Epoch 75/75\n",
            "33/33 [==============================] - 20s 610ms/step - loss: 0.4456 - acc: 0.7909 - val_loss: 0.6826 - val_acc: 0.8158\n"
          ],
          "name": "stdout"
        },
        {
          "output_type": "execute_result",
          "data": {
            "text/plain": [
              "<keras.callbacks.History at 0x7f2312878f60>"
            ]
          },
          "metadata": {
            "tags": []
          },
          "execution_count": 27
        }
      ]
    },
    {
      "cell_type": "code",
      "metadata": {
        "id": "Z4P_quHq_qi2",
        "colab_type": "code",
        "colab": {
          "base_uri": "https://localhost:8080/",
          "height": 119
        },
        "outputId": "197b5d9d-cd7f-49ec-de5d-1b16e6b69faf"
      },
      "source": [
        "BCC_test_dir = 'XRayDawgz/Images/Test/BCC_test/'\n",
        "FCC_test_dir = 'XRayDawgz/Images/Test/FCC_test/'\n",
        "\n",
        "BCC_Prediction = np.zeros(98)\n",
        "FCC_Prediction = np.zeros(98)\n",
        "i=0\n",
        "correct_count=0\n",
        "for file in os.listdir(BCC_test_dir):\n",
        "  predict_img = image.load_img(BCC_test_dir + file, target_size = (img_width, img_height))\n",
        "  predict_img = image.img_to_array(predict_img)\n",
        "  predict_img = np.expand_dims(predict_img, axis = 0)\n",
        "  result = model.predict(predict_img)\n",
        "  pred = result.astype(int)\n",
        "  if pred[0] is 0:\n",
        "    correct_count += 1\n",
        "  else:\n",
        "    pass\n",
        "print('BCC prediction accuracy: ' + str(correct_count // 98))\n",
        "\n",
        "i=0\n",
        "for file in os.listdir(FCC_test_dir):\n",
        "  predict_img = image.load_img(FCC_test_dir + file, target_size = (img_width, img_height))\n",
        "  predict_img = image.img_to_array(predict_img)\n",
        "  predict_img = np.expand_dims(predict_img, axis = 0)\n",
        "  result = model.predict(predict_img)\n",
        "  FCC_Prediction[i] = result\n",
        "  i += 1\n",
        "print(FCC_Prediction)"
      ],
      "execution_count": 54,
      "outputs": [
        {
          "output_type": "stream",
          "text": [
            "BCC prediction accuracy: 0\n",
            "[1. 1. 1. 1. 1. 1. 1. 1. 1. 1. 1. 1. 1. 1. 1. 1. 1. 1. 1. 1. 1. 1. 1. 1.\n",
            " 1. 1. 1. 1. 1. 1. 1. 1. 1. 1. 1. 1. 1. 1. 1. 1. 1. 1. 1. 1. 1. 1. 1. 1.\n",
            " 1. 1. 1. 1. 1. 1. 0. 1. 1. 1. 1. 1. 1. 0. 1. 1. 1. 1. 1. 1. 1. 1. 1. 1.\n",
            " 1. 1. 1. 1. 1. 1. 1. 1. 1. 0. 1. 1. 1. 0. 1. 1. 1. 1. 0. 1. 1. 1. 1. 1.\n",
            " 1. 1.]\n"
          ],
          "name": "stdout"
        }
      ]
    },
    {
      "cell_type": "code",
      "metadata": {
        "id": "6gqkAFXYElL-",
        "colab_type": "code",
        "colab": {
          "base_uri": "https://localhost:8080/",
          "height": 34
        },
        "outputId": "c7a9f712-f6fc-4164-ec02-bc7de48f601e"
      },
      "source": [
        "predict_img = image.load_img('download.png', target_size = (img_width, img_height))\n",
        "predict_img = image.img_to_array(predict_img)\n",
        "predict_img = np.expand_dims(predict_img, axis = 0)\n",
        "\n",
        "result = np.round(model.predict(predict_img), decimals=0)\n",
        "print(np.round(result, decimals=0))"
      ],
      "execution_count": 20,
      "outputs": [
        {
          "output_type": "stream",
          "text": [
            "[[1.]]\n"
          ],
          "name": "stdout"
        }
      ]
    },
    {
      "cell_type": "code",
      "metadata": {
        "id": "bP9ZIlONIoH3",
        "colab_type": "code",
        "colab": {}
      },
      "source": [
        ""
      ],
      "execution_count": 0,
      "outputs": []
    }
  ]
}