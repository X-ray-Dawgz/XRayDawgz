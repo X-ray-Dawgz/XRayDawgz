{
  "nbformat": 4,
  "nbformat_minor": 0,
  "metadata": {
    "accelerator": "GPU",
    "colab": {
      "name": "CNN.ipynb",
      "provenance": [],
      "collapsed_sections": [],
      "include_colab_link": true
    },
    "kernelspec": {
      "display_name": "Python 3",
      "language": "python",
      "name": "python3"
    },
    "language_info": {
      "codemirror_mode": {
        "name": "ipython",
        "version": 3
      },
      "file_extension": ".py",
      "mimetype": "text/x-python",
      "name": "python",
      "nbconvert_exporter": "python",
      "pygments_lexer": "ipython3",
      "version": "3.7.6"
    }
  },
  "cells": [
    {
      "cell_type": "markdown",
      "metadata": {
        "id": "view-in-github",
        "colab_type": "text"
      },
      "source": [
        "<a href=\"https://colab.research.google.com/github/X-ray-Dawgz/XRayDawgz/blob/rick/CNN_COVID20.ipynb\" target=\"_parent\"><img src=\"https://colab.research.google.com/assets/colab-badge.svg\" alt=\"Open In Colab\"/></a>"
      ]
    },
    {
      "cell_type": "code",
      "metadata": {
        "colab_type": "code",
        "id": "OG7HT2z-o8l4",
        "outputId": "a4748f0b-2a3c-4d34-ca1a-b4973a00cf0a",
        "colab": {
          "base_uri": "https://localhost:8080/",
          "height": 138
        }
      },
      "source": [
        "!git clone https://github.com/X-ray-Dawgz/XRayDawgz.git"
      ],
      "execution_count": 3,
      "outputs": [
        {
          "output_type": "stream",
          "text": [
            "Cloning into 'XRayDawgz'...\n",
            "remote: Enumerating objects: 532, done.\u001b[K\n",
            "remote: Counting objects: 100% (532/532), done.\u001b[K\n",
            "remote: Compressing objects: 100% (512/512), done.\u001b[K\n",
            "remote: Total 3643 (delta 54), reused 455 (delta 16), pack-reused 3111\n",
            "Receiving objects: 100% (3643/3643), 26.97 MiB | 40.02 MiB/s, done.\n",
            "Resolving deltas: 100% (238/238), done.\n"
          ],
          "name": "stdout"
        }
      ]
    },
    {
      "cell_type": "code",
      "metadata": {
        "id": "gFOf0LowPREN",
        "colab_type": "code",
        "colab": {
          "base_uri": "https://localhost:8080/",
          "height": 35
        },
        "outputId": "6139153a-e4b1-4414-f1c2-8238783b0d7a"
      },
      "source": [
        "cd XRayDawgz/"
      ],
      "execution_count": 4,
      "outputs": [
        {
          "output_type": "stream",
          "text": [
            "/content/XRayDawgz\n"
          ],
          "name": "stdout"
        }
      ]
    },
    {
      "cell_type": "code",
      "metadata": {
        "id": "ezCeq7goPTi4",
        "colab_type": "code",
        "colab": {
          "base_uri": "https://localhost:8080/",
          "height": 52
        },
        "outputId": "9b9c78eb-a5d3-42eb-f241-5081c9485702"
      },
      "source": [
        "!git checkout rick"
      ],
      "execution_count": 5,
      "outputs": [
        {
          "output_type": "stream",
          "text": [
            "Branch 'rick' set up to track remote branch 'rick' from 'origin'.\n",
            "Switched to a new branch 'rick'\n"
          ],
          "name": "stdout"
        }
      ]
    },
    {
      "cell_type": "code",
      "metadata": {
        "colab_type": "code",
        "id": "cs5GsJaDo-l-",
        "outputId": "9a06d105-31fe-4b69-c4b7-892a2d383fac",
        "colab": {
          "base_uri": "https://localhost:8080/",
          "height": 81
        }
      },
      "source": [
        "from keras.preprocessing.image import ImageDataGenerator\n",
        "from keras.models import Sequential\n",
        "from keras.layers import Conv2D, MaxPooling2D, ZeroPadding2D\n",
        "from keras.layers import Activation, Dropout, Flatten, Dense\n",
        "from keras import backend as K\n",
        "from keras.preprocessing import image\n",
        "\n",
        "import numpy as np\n",
        "import os"
      ],
      "execution_count": 6,
      "outputs": [
        {
          "output_type": "stream",
          "text": [
            "Using TensorFlow backend.\n"
          ],
          "name": "stderr"
        },
        {
          "output_type": "display_data",
          "data": {
            "text/html": [
              "<p style=\"color: red;\">\n",
              "The default version of TensorFlow in Colab will soon switch to TensorFlow 2.x.<br>\n",
              "We recommend you <a href=\"https://www.tensorflow.org/guide/migrate\" target=\"_blank\">upgrade</a> now \n",
              "or ensure your notebook will continue to use TensorFlow 1.x via the <code>%tensorflow_version 1.x</code> magic:\n",
              "<a href=\"https://colab.research.google.com/notebooks/tensorflow_version.ipynb\" target=\"_blank\">more info</a>.</p>\n"
            ],
            "text/plain": [
              "<IPython.core.display.HTML object>"
            ]
          },
          "metadata": {
            "tags": []
          }
        }
      ]
    },
    {
      "cell_type": "code",
      "metadata": {
        "colab_type": "code",
        "id": "-6_wexe5pUar",
        "colab": {}
      },
      "source": [
        "# image size\n",
        "img_width, img_height = 379,288\n",
        "# train and test sample sizes\n",
        "train_samples = 665\n",
        "test_samples = 98\n",
        "# set weights\n",
        "epochs = 75\n",
        "batch_size = 20\n",
        "# Directories of train and test data\n",
        "train_dir = 'cut_image/Train'\n",
        "test_dir = 'cut_image/Test'"
      ],
      "execution_count": 0,
      "outputs": []
    },
    {
      "cell_type": "code",
      "metadata": {
        "colab_type": "code",
        "id": "3u9i_AnP5FUe",
        "colab": {}
      },
      "source": [
        "# data image augmentation to create more variation of XRD patterns\n",
        "train_data = ImageDataGenerator(rescale=1. / 255,\n",
        "                                shear_range=0.2,\n",
        "                                zoom_range=0.2,\n",
        "                                horizontal_flip=True)\n",
        "\n",
        "# only resize for test data\n",
        "test_data = ImageDataGenerator(rescale=1. / 255)"
      ],
      "execution_count": 0,
      "outputs": []
    },
    {
      "cell_type": "code",
      "metadata": {
        "colab_type": "code",
        "id": "RhRTnKoW5yGQ",
        "outputId": "0120bbb3-a226-4abf-cbb8-cb4d0118b6e2",
        "colab": {
          "base_uri": "https://localhost:8080/",
          "height": 35
        }
      },
      "source": [
        "# import train data consisting of 'binary' or  2 classifications (BCC or FCC) \n",
        "train_gen = train_data.flow_from_directory(train_dir, target_size=(img_width, img_height),\n",
        "                                           batch_size=batch_size,\n",
        "                                           class_mode='binary')"
      ],
      "execution_count": 9,
      "outputs": [
        {
          "output_type": "stream",
          "text": [
            "Found 1330 images belonging to 2 classes.\n"
          ],
          "name": "stdout"
        }
      ]
    },
    {
      "cell_type": "code",
      "metadata": {
        "colab_type": "code",
        "id": "ozuoZJrf6ROO",
        "outputId": "78d4b0d1-a40c-4cc4-802b-253d53100336",
        "colab": {
          "base_uri": "https://localhost:8080/",
          "height": 35
        }
      },
      "source": [
        "# import test data consisting of 'binary' or  2 classifications (BCC or FCC) \n",
        "test_gen = test_data.flow_from_directory(test_dir, target_size=(img_width, img_height),\n",
        "                                          batch_size=batch_size,\n",
        "                                           class_mode='binary')"
      ],
      "execution_count": 10,
      "outputs": [
        {
          "output_type": "stream",
          "text": [
            "Found 196 images belonging to 2 classes.\n"
          ],
          "name": "stdout"
        }
      ]
    },
    {
      "cell_type": "code",
      "metadata": {
        "id": "DH51Gw4bVfM8",
        "colab_type": "code",
        "colab": {
          "base_uri": "https://localhost:8080/",
          "height": 35
        },
        "outputId": "85270207-de59-4a6e-f218-f531f02c27f4"
      },
      "source": [
        ""
      ],
      "execution_count": 22,
      "outputs": [
        {
          "output_type": "execute_result",
          "data": {
            "text/plain": [
              "<keras_preprocessing.image.directory_iterator.DirectoryIterator at 0x7f78ad3c29b0>"
            ]
          },
          "metadata": {
            "tags": []
          },
          "execution_count": 22
        }
      ]
    },
    {
      "cell_type": "code",
      "metadata": {
        "colab_type": "code",
        "id": "e-pS0fGY6q-q",
        "outputId": "a419abf2-053f-45e8-e5b9-77498ea9d476",
        "colab": {
          "base_uri": "https://localhost:8080/",
          "height": 708
        }
      },
      "source": [
        "# build CNN model\n",
        "model = Sequential()\n",
        "# extract features by iterating across image\n",
        "model.add(Conv2D(32, (3, 3), input_shape=(img_width, img_height, 3)))\n",
        "model.add(Activation('relu'))\n",
        "model.add(MaxPooling2D(pool_size=(2, 2)))\n",
        "model.add(Conv2D(32, (3, 3), input_shape=(img_width, img_height, 3)))\n",
        "model.add(Activation('relu'))\n",
        "model.add(MaxPooling2D(pool_size=(2, 2)))\n",
        "model.add(Conv2D(64, (3, 3), input_shape=(img_width, img_height, 3)))\n",
        "model.add(Activation('relu'))\n",
        "model.add(MaxPooling2D(pool_size=(2, 2)))\n",
        "model.add(ZeroPadding2D((1,1)))\n",
        "#convert 3D features to 1D feature vectors\n",
        "model.add(Flatten())\n",
        "model.add(Dense(64))\n",
        "model.add(Activation('relu'))\n",
        "model.add(Dropout(0.5))\n",
        "model.add(Dense(1))\n",
        "model.add(Activation('sigmoid'))\n",
        "\n",
        "model.summary()"
      ],
      "execution_count": 23,
      "outputs": [
        {
          "output_type": "stream",
          "text": [
            "Model: \"sequential_4\"\n",
            "_________________________________________________________________\n",
            "Layer (type)                 Output Shape              Param #   \n",
            "=================================================================\n",
            "conv2d_10 (Conv2D)           (None, 377, 286, 32)      896       \n",
            "_________________________________________________________________\n",
            "activation_16 (Activation)   (None, 377, 286, 32)      0         \n",
            "_________________________________________________________________\n",
            "max_pooling2d_10 (MaxPooling (None, 188, 143, 32)      0         \n",
            "_________________________________________________________________\n",
            "conv2d_11 (Conv2D)           (None, 186, 141, 32)      9248      \n",
            "_________________________________________________________________\n",
            "activation_17 (Activation)   (None, 186, 141, 32)      0         \n",
            "_________________________________________________________________\n",
            "max_pooling2d_11 (MaxPooling (None, 93, 70, 32)        0         \n",
            "_________________________________________________________________\n",
            "conv2d_12 (Conv2D)           (None, 91, 68, 64)        18496     \n",
            "_________________________________________________________________\n",
            "activation_18 (Activation)   (None, 91, 68, 64)        0         \n",
            "_________________________________________________________________\n",
            "max_pooling2d_12 (MaxPooling (None, 45, 34, 64)        0         \n",
            "_________________________________________________________________\n",
            "zero_padding2d_4 (ZeroPaddin (None, 47, 36, 64)        0         \n",
            "_________________________________________________________________\n",
            "flatten_4 (Flatten)          (None, 108288)            0         \n",
            "_________________________________________________________________\n",
            "dense_7 (Dense)              (None, 64)                6930496   \n",
            "_________________________________________________________________\n",
            "activation_19 (Activation)   (None, 64)                0         \n",
            "_________________________________________________________________\n",
            "dropout_4 (Dropout)          (None, 64)                0         \n",
            "_________________________________________________________________\n",
            "dense_8 (Dense)              (None, 1)                 65        \n",
            "_________________________________________________________________\n",
            "activation_20 (Activation)   (None, 1)                 0         \n",
            "=================================================================\n",
            "Total params: 6,959,201\n",
            "Trainable params: 6,959,201\n",
            "Non-trainable params: 0\n",
            "_________________________________________________________________\n"
          ],
          "name": "stdout"
        }
      ]
    },
    {
      "cell_type": "code",
      "metadata": {
        "colab_type": "code",
        "id": "nwGDqUXQ-bnN",
        "colab": {}
      },
      "source": [
        "# compile model\n",
        "model.compile(loss='binary_crossentropy', optimizer='rmsprop', metrics=['accuracy'])"
      ],
      "execution_count": 0,
      "outputs": []
    },
    {
      "cell_type": "code",
      "metadata": {
        "colab_type": "code",
        "id": "vKRcjJYh_ALN",
        "outputId": "27fb0714-80d9-4fe8-9bea-49612b8c34af",
        "colab": {
          "base_uri": "https://localhost:8080/",
          "height": 1000
        }
      },
      "source": [
        "cs_classification = model.fit_generator(train_gen,\n",
        "                    steps_per_epoch=train_samples // batch_size,\n",
        "                    epochs=epochs,\n",
        "                    validation_data=test_gen,\n",
        "                    validation_steps=test_samples // batch_size)"
      ],
      "execution_count": 29,
      "outputs": [
        {
          "output_type": "stream",
          "text": [
            "Epoch 1/75\n",
            "33/33 [==============================] - 14s 422ms/step - loss: 0.3972 - acc: 0.8348 - val_loss: 0.3427 - val_acc: 0.8875\n",
            "Epoch 2/75\n",
            "33/33 [==============================] - 14s 415ms/step - loss: 0.4029 - acc: 0.8212 - val_loss: 0.3773 - val_acc: 0.8750\n",
            "Epoch 3/75\n",
            "33/33 [==============================] - 14s 416ms/step - loss: 0.3961 - acc: 0.8302 - val_loss: 0.3667 - val_acc: 0.8947\n",
            "Epoch 4/75\n",
            "33/33 [==============================] - 14s 426ms/step - loss: 0.3507 - acc: 0.8561 - val_loss: 0.4467 - val_acc: 0.8875\n",
            "Epoch 5/75\n",
            "33/33 [==============================] - 14s 419ms/step - loss: 0.3830 - acc: 0.8333 - val_loss: 0.4533 - val_acc: 0.7763\n",
            "Epoch 6/75\n",
            "33/33 [==============================] - 14s 420ms/step - loss: 0.4099 - acc: 0.8182 - val_loss: 0.4262 - val_acc: 0.8375\n",
            "Epoch 7/75\n",
            "33/33 [==============================] - 14s 412ms/step - loss: 0.4148 - acc: 0.8333 - val_loss: 0.4296 - val_acc: 0.8625\n",
            "Epoch 8/75\n",
            "33/33 [==============================] - 14s 423ms/step - loss: 0.3831 - acc: 0.8455 - val_loss: 0.4627 - val_acc: 0.7763\n",
            "Epoch 9/75\n",
            "33/33 [==============================] - 14s 417ms/step - loss: 0.4010 - acc: 0.8243 - val_loss: 0.3562 - val_acc: 0.8500\n",
            "Epoch 10/75\n",
            "33/33 [==============================] - 14s 424ms/step - loss: 0.3907 - acc: 0.8424 - val_loss: 0.3088 - val_acc: 0.9342\n",
            "Epoch 11/75\n",
            "33/33 [==============================] - 14s 427ms/step - loss: 0.4062 - acc: 0.8273 - val_loss: 0.2894 - val_acc: 0.9000\n",
            "Epoch 12/75\n",
            "33/33 [==============================] - 14s 419ms/step - loss: 0.3325 - acc: 0.8591 - val_loss: 0.3359 - val_acc: 0.9000\n",
            "Epoch 13/75\n",
            "33/33 [==============================] - 14s 416ms/step - loss: 0.3705 - acc: 0.8651 - val_loss: 0.4202 - val_acc: 0.8684\n",
            "Epoch 14/75\n",
            "33/33 [==============================] - 14s 417ms/step - loss: 0.3540 - acc: 0.8560 - val_loss: 0.6242 - val_acc: 0.8500\n",
            "Epoch 15/75\n",
            "33/33 [==============================] - 14s 419ms/step - loss: 0.3751 - acc: 0.8424 - val_loss: 0.1925 - val_acc: 0.9342\n",
            "Epoch 16/75\n",
            "33/33 [==============================] - 14s 426ms/step - loss: 0.3814 - acc: 0.8485 - val_loss: 0.1821 - val_acc: 0.9375\n",
            "Epoch 17/75\n",
            "33/33 [==============================] - 14s 419ms/step - loss: 0.3178 - acc: 0.8576 - val_loss: 0.4035 - val_acc: 0.9250\n",
            "Epoch 18/75\n",
            "33/33 [==============================] - 14s 418ms/step - loss: 0.3946 - acc: 0.8454 - val_loss: 0.4560 - val_acc: 0.8421\n",
            "Epoch 19/75\n",
            "33/33 [==============================] - 14s 423ms/step - loss: 0.3426 - acc: 0.8531 - val_loss: 0.3133 - val_acc: 0.9000\n",
            "Epoch 20/75\n",
            "33/33 [==============================] - 14s 425ms/step - loss: 0.4014 - acc: 0.8364 - val_loss: 0.3071 - val_acc: 0.9079\n",
            "Epoch 21/75\n",
            "33/33 [==============================] - 14s 430ms/step - loss: 0.3710 - acc: 0.8561 - val_loss: 0.1177 - val_acc: 0.9750\n",
            "Epoch 22/75\n",
            "33/33 [==============================] - 14s 416ms/step - loss: 0.3382 - acc: 0.8590 - val_loss: 0.4517 - val_acc: 0.8375\n",
            "Epoch 23/75\n",
            "33/33 [==============================] - 14s 424ms/step - loss: 0.3465 - acc: 0.8439 - val_loss: 0.1784 - val_acc: 0.9079\n",
            "Epoch 24/75\n",
            "33/33 [==============================] - 14s 418ms/step - loss: 0.3779 - acc: 0.8469 - val_loss: 0.5280 - val_acc: 0.8000\n",
            "Epoch 25/75\n",
            "33/33 [==============================] - 14s 421ms/step - loss: 0.3536 - acc: 0.8545 - val_loss: 0.3233 - val_acc: 0.8947\n",
            "Epoch 26/75\n",
            "33/33 [==============================] - 14s 425ms/step - loss: 0.3291 - acc: 0.8515 - val_loss: 0.4409 - val_acc: 0.8750\n",
            "Epoch 27/75\n",
            "33/33 [==============================] - 14s 422ms/step - loss: 0.3714 - acc: 0.8515 - val_loss: 0.3830 - val_acc: 0.8250\n",
            "Epoch 28/75\n",
            "33/33 [==============================] - 14s 426ms/step - loss: 0.3346 - acc: 0.8742 - val_loss: 0.3097 - val_acc: 0.8553\n",
            "Epoch 29/75\n",
            "33/33 [==============================] - 14s 413ms/step - loss: 0.3381 - acc: 0.8607 - val_loss: 0.2554 - val_acc: 0.9375\n",
            "Epoch 30/75\n",
            "33/33 [==============================] - 14s 422ms/step - loss: 0.3638 - acc: 0.8455 - val_loss: 0.2892 - val_acc: 0.9342\n",
            "Epoch 31/75\n",
            "33/33 [==============================] - 14s 430ms/step - loss: 0.3453 - acc: 0.8515 - val_loss: 0.2480 - val_acc: 0.9375\n",
            "Epoch 32/75\n",
            "33/33 [==============================] - 14s 422ms/step - loss: 0.4611 - acc: 0.8348 - val_loss: 0.3664 - val_acc: 0.8000\n",
            "Epoch 33/75\n",
            "33/33 [==============================] - 14s 434ms/step - loss: 0.3208 - acc: 0.8697 - val_loss: 0.4205 - val_acc: 0.8947\n",
            "Epoch 34/75\n",
            "33/33 [==============================] - 14s 419ms/step - loss: 0.3562 - acc: 0.8499 - val_loss: 0.3483 - val_acc: 0.8125\n",
            "Epoch 35/75\n",
            "33/33 [==============================] - 14s 422ms/step - loss: 0.3154 - acc: 0.8621 - val_loss: 0.2262 - val_acc: 0.9474\n",
            "Epoch 36/75\n",
            "33/33 [==============================] - 14s 425ms/step - loss: 0.3212 - acc: 0.8515 - val_loss: 0.3339 - val_acc: 0.8875\n",
            "Epoch 37/75\n",
            "33/33 [==============================] - 14s 423ms/step - loss: 0.3404 - acc: 0.8606 - val_loss: 0.2267 - val_acc: 0.9000\n",
            "Epoch 38/75\n",
            "33/33 [==============================] - 14s 420ms/step - loss: 0.3265 - acc: 0.8439 - val_loss: 0.6328 - val_acc: 0.8553\n",
            "Epoch 39/75\n",
            "33/33 [==============================] - 14s 433ms/step - loss: 0.3487 - acc: 0.8758 - val_loss: 0.2474 - val_acc: 0.9500\n",
            "Epoch 40/75\n",
            "33/33 [==============================] - 14s 417ms/step - loss: 0.3261 - acc: 0.8606 - val_loss: 0.2128 - val_acc: 0.9211\n",
            "Epoch 41/75\n",
            "33/33 [==============================] - 14s 436ms/step - loss: 0.3167 - acc: 0.8742 - val_loss: 0.2075 - val_acc: 0.9125\n",
            "Epoch 42/75\n",
            "33/33 [==============================] - 14s 425ms/step - loss: 0.3209 - acc: 0.8712 - val_loss: 0.4077 - val_acc: 0.8875\n",
            "Epoch 43/75\n",
            "33/33 [==============================] - 14s 426ms/step - loss: 0.3922 - acc: 0.8606 - val_loss: 0.2544 - val_acc: 0.9211\n",
            "Epoch 44/75\n",
            "33/33 [==============================] - 14s 419ms/step - loss: 0.2928 - acc: 0.8757 - val_loss: 0.2314 - val_acc: 0.9250\n",
            "Epoch 45/75\n",
            "33/33 [==============================] - 14s 418ms/step - loss: 0.3301 - acc: 0.8651 - val_loss: 0.3880 - val_acc: 0.8947\n",
            "Epoch 46/75\n",
            "33/33 [==============================] - 14s 430ms/step - loss: 0.2803 - acc: 0.8606 - val_loss: 0.3270 - val_acc: 0.9000\n",
            "Epoch 47/75\n",
            "33/33 [==============================] - 14s 422ms/step - loss: 0.2992 - acc: 0.8788 - val_loss: 0.3356 - val_acc: 0.9125\n",
            "Epoch 48/75\n",
            "33/33 [==============================] - 14s 421ms/step - loss: 0.3303 - acc: 0.8697 - val_loss: 0.2320 - val_acc: 0.9342\n",
            "Epoch 49/75\n",
            "33/33 [==============================] - 14s 428ms/step - loss: 0.3871 - acc: 0.8667 - val_loss: 0.3138 - val_acc: 0.9000\n",
            "Epoch 50/75\n",
            "33/33 [==============================] - 14s 427ms/step - loss: 0.3258 - acc: 0.8667 - val_loss: 0.3364 - val_acc: 0.9079\n",
            "Epoch 51/75\n",
            "33/33 [==============================] - 15s 443ms/step - loss: 0.3759 - acc: 0.8485 - val_loss: 0.1687 - val_acc: 0.9375\n",
            "Epoch 52/75\n",
            "33/33 [==============================] - 14s 426ms/step - loss: 0.2863 - acc: 0.8863 - val_loss: 0.3426 - val_acc: 0.9000\n",
            "Epoch 53/75\n",
            "33/33 [==============================] - 15s 443ms/step - loss: 0.3460 - acc: 0.8621 - val_loss: 0.1475 - val_acc: 0.9605\n",
            "Epoch 54/75\n",
            "33/33 [==============================] - 14s 436ms/step - loss: 0.2912 - acc: 0.8970 - val_loss: 0.4037 - val_acc: 0.8750\n",
            "Epoch 55/75\n",
            "33/33 [==============================] - 14s 430ms/step - loss: 0.3307 - acc: 0.8682 - val_loss: 0.2951 - val_acc: 0.9211\n",
            "Epoch 56/75\n",
            "33/33 [==============================] - 15s 442ms/step - loss: 0.3312 - acc: 0.8818 - val_loss: 0.3753 - val_acc: 0.8125\n",
            "Epoch 57/75\n",
            "33/33 [==============================] - 14s 436ms/step - loss: 0.2997 - acc: 0.8864 - val_loss: 0.2818 - val_acc: 0.9000\n",
            "Epoch 58/75\n",
            "33/33 [==============================] - 14s 432ms/step - loss: 0.3066 - acc: 0.8864 - val_loss: 0.2585 - val_acc: 0.9211\n",
            "Epoch 59/75\n",
            "33/33 [==============================] - 14s 439ms/step - loss: 0.3282 - acc: 0.8788 - val_loss: 0.3117 - val_acc: 0.9125\n",
            "Epoch 60/75\n",
            "33/33 [==============================] - 14s 426ms/step - loss: 0.2898 - acc: 0.8773 - val_loss: 0.2453 - val_acc: 0.9474\n",
            "Epoch 61/75\n",
            "33/33 [==============================] - 15s 446ms/step - loss: 0.3260 - acc: 0.8758 - val_loss: 0.2318 - val_acc: 0.9375\n",
            "Epoch 62/75\n",
            "33/33 [==============================] - 14s 431ms/step - loss: 0.2939 - acc: 0.8893 - val_loss: 0.3779 - val_acc: 0.8000\n",
            "Epoch 63/75\n",
            "33/33 [==============================] - 14s 438ms/step - loss: 0.2893 - acc: 0.8864 - val_loss: 0.1554 - val_acc: 0.9342\n",
            "Epoch 64/75\n",
            "33/33 [==============================] - 14s 434ms/step - loss: 0.2796 - acc: 0.8788 - val_loss: 0.7377 - val_acc: 0.9000\n",
            "Epoch 65/75\n",
            "33/33 [==============================] - 14s 421ms/step - loss: 0.3129 - acc: 0.8742 - val_loss: 0.2830 - val_acc: 0.9211\n",
            "Epoch 66/75\n",
            "33/33 [==============================] - 14s 438ms/step - loss: 0.2969 - acc: 0.8848 - val_loss: 0.2199 - val_acc: 0.9250\n",
            "Epoch 67/75\n",
            "33/33 [==============================] - 14s 423ms/step - loss: 0.3040 - acc: 0.9061 - val_loss: 0.2009 - val_acc: 0.9375\n",
            "Epoch 68/75\n",
            "33/33 [==============================] - 14s 421ms/step - loss: 0.2578 - acc: 0.8940 - val_loss: 0.4066 - val_acc: 0.8816\n",
            "Epoch 69/75\n",
            "33/33 [==============================] - 14s 427ms/step - loss: 0.2730 - acc: 0.8848 - val_loss: 0.1851 - val_acc: 0.9250\n",
            "Epoch 70/75\n",
            "33/33 [==============================] - 14s 416ms/step - loss: 0.2981 - acc: 0.8849 - val_loss: 0.2736 - val_acc: 0.9211\n",
            "Epoch 71/75\n",
            "33/33 [==============================] - 14s 431ms/step - loss: 0.2998 - acc: 0.8682 - val_loss: 0.3011 - val_acc: 0.8875\n",
            "Epoch 72/75\n",
            "33/33 [==============================] - 14s 414ms/step - loss: 0.3442 - acc: 0.8804 - val_loss: 0.4507 - val_acc: 0.8875\n",
            "Epoch 73/75\n",
            "33/33 [==============================] - 14s 433ms/step - loss: 0.2939 - acc: 0.8758 - val_loss: 0.3080 - val_acc: 0.8947\n",
            "Epoch 74/75\n",
            "33/33 [==============================] - 14s 418ms/step - loss: 0.3132 - acc: 0.8773 - val_loss: 0.9029 - val_acc: 0.8125\n",
            "Epoch 75/75\n",
            "33/33 [==============================] - 14s 420ms/step - loss: 0.2859 - acc: 0.8939 - val_loss: 0.3243 - val_acc: 0.8684\n"
          ],
          "name": "stdout"
        }
      ]
    },
    {
      "cell_type": "code",
      "metadata": {
        "id": "9OKfS8dEb55v",
        "colab_type": "code",
        "colab": {}
      },
      "source": [
        "model.save_weights('0.97 try')"
      ],
      "execution_count": 0,
      "outputs": []
    },
    {
      "cell_type": "code",
      "metadata": {
        "id": "X_Dg_-7QiD2k",
        "colab_type": "code",
        "colab": {
          "base_uri": "https://localhost:8080/",
          "height": 121
        },
        "outputId": "e4376117-72b6-4361-c5e7-2b7c464800df"
      },
      "source": [
        "ls"
      ],
      "execution_count": 33,
      "outputs": [
        {
          "output_type": "stream",
          "text": [
            "'0.97 try'                      \u001b[0m\u001b[01;34mcut_image\u001b[0m/            img_prepare.ipynb\n",
            " change_size.ipynb              \u001b[01;34mdocs\u001b[0m/                 LICENSE\n",
            " CNN_COVID19.ipynb              environment.yml       README.md\n",
            " CNN_COVID20.ipynb              image_prepare.py      \u001b[01;34mTest\u001b[0m/\n",
            " CNN_test_0312.ipynb            Image_Preprocess.py   \u001b[01;34mXRayDawgz\u001b[0m/\n",
            " CNN_test_3_convolution.ipynb   \u001b[01;34mImages\u001b[0m/\n"
          ],
          "name": "stdout"
        }
      ]
    },
    {
      "cell_type": "code",
      "metadata": {
        "id": "06mGLgE9bWXH",
        "colab_type": "code",
        "colab": {
          "base_uri": "https://localhost:8080/",
          "height": 329
        },
        "outputId": "6ecd013c-8b62-44e7-836e-90c631e04c42"
      },
      "source": [
        "x = np.arange(0, epochs)\n",
        "plt.figure()\n",
        "plt.xlabel(\"Epoch Number\")\n",
        "plt.ylabel(\"Accuracy\")\n",
        "\n",
        "plt.plot(x, cs_classification.history[\"acc\"], label=\"Training Accuracy\")\n",
        "plt.plot(x, cs_classification.history[\"val_acc\"], label=\"Validation Accuracy\")\n",
        "plt.title(\"CNN Model Accuracy\")\n",
        "plt.legend(loc=\"upper right\")\n",
        "\n",
        "print('Accuracy: %.2f' %(np.amax(cs_classification.history[\"acc\"])))\n",
        "print('Validation Accuracy: %.2f' %(np.amax(cs_classification.history[\"val_acc\"])))"
      ],
      "execution_count": 35,
      "outputs": [
        {
          "output_type": "stream",
          "text": [
            "Accuracy: 0.91\n",
            "Validation Accuracy: 0.97\n"
          ],
          "name": "stdout"
        },
        {
          "output_type": "display_data",
          "data": {
            "image/png": "[encoded data removed]",
            "text/plain": [
              "<Figure size 432x288 with 1 Axes>"
            ]
          },
          "metadata": {
            "tags": []
          }
        }
      ]
    },
    {
      "cell_type": "code",
      "metadata": {
        "id": "aUnA7KFPbWgU",
        "colab_type": "code",
        "colab": {
          "base_uri": "https://localhost:8080/",
          "height": 329
        },
        "outputId": "ef9ba764-b981-4d45-9af0-80e06637ef41"
      },
      "source": [
        "x = np.arange(0, epochs)\n",
        "plt.figure()\n",
        "plt.xlabel(\"Epoch Number\")\n",
        "plt.ylabel(\"Loss\")\n",
        "plt.plot(x, cs_classification.history[\"loss\"], label=\"Training Loss\")\n",
        "plt.plot(x, cs_classification.history[\"val_loss\"], label=\"Validation Loss\")\n",
        "\n",
        "plt.title(\"CNN Model Loss\")\n",
        "plt.legend(loc=\"upper right\")\n",
        "print('loss: %.2f' %(np.amin(cs_classification.history[\"loss\"])))\n",
        "print('Validation loss: %.2f' %(np.amin(cs_classification.history[\"val_loss\"])))\n"
      ],
      "execution_count": 36,
      "outputs": [
        {
          "output_type": "stream",
          "text": [
            "loss: 0.25\n",
            "Validation loss: 0.12\n"
          ],
          "name": "stdout"
        },
        {
          "output_type": "display_data",
          "data": {
            "image/png": "[encoded data removed]",
            "text/plain": [
              "<Figure size 432x288 with 1 Axes>"
            ]
          },
          "metadata": {
            "tags": []
          }
        }
      ]
    },
    {
      "cell_type": "code",
      "metadata": {
        "colab_type": "code",
        "id": "Z4P_quHq_qi2",
        "outputId": "532b6cd9-4935-41a4-a870-2d0a13928e9e",
        "colab": {
          "base_uri": "https://localhost:8080/",
          "height": 52
        }
      },
      "source": [
        "BCC_test_dir = 'cut_image/Test/BCC_test/'\n",
        "FCC_test_dir = 'cut_image/Test/FCC_test/'\n",
        "\n",
        "BCC_Prediction = np.zeros(test_samples)\n",
        "FCC_Prediction = np.zeros(test_samples)\n",
        "i=0\n",
        "correct_count=0\n",
        "for file in os.listdir(BCC_test_dir):\n",
        "  predict_img = image.load_img(BCC_test_dir + file, target_size = (img_width, img_height))\n",
        "  predict_img = image.img_to_array(predict_img)\n",
        "  predict_img = np.expand_dims(predict_img, axis = 0)\n",
        "  result = model.predict(predict_img)\n",
        "  if np.round(result, 0) == 0:\n",
        "    correct_count += 1\n",
        "  else:\n",
        "    pass\n",
        "print('BCC prediction accuracy: %.2f' % ((correct_count / test_samples)*100) + '%')\n",
        "\n",
        "i=0\n",
        "correct_count=0\n",
        "for file in os.listdir(FCC_test_dir):\n",
        "  predict_img = image.load_img(FCC_test_dir + file, target_size = (img_width, img_height))\n",
        "  predict_img = image.img_to_array(predict_img)\n",
        "  predict_img = np.expand_dims(predict_img, axis = 0)\n",
        "  result = model.predict(predict_img)\n",
        "  if np.round(result, 0) == 0:\n",
        "    correct_count += 1\n",
        "  else:\n",
        "    pass\n",
        "print('FCC prediction accuracy: %.2f' % ((correct_count / test_samples)*100) + '%')"
      ],
      "execution_count": 41,
      "outputs": [
        {
          "output_type": "stream",
          "text": [
            "BCC prediction accuracy: 94.90%\n",
            "FCC prediction accuracy: 89.80%\n"
          ],
          "name": "stdout"
        }
      ]
    },
    {
      "cell_type": "code",
      "metadata": {
        "colab_type": "code",
        "id": "6gqkAFXYElL-",
        "outputId": "c7a9f712-f6fc-4164-ec02-bc7de48f601e",
        "colab": {
          "base_uri": "https://localhost:8080/",
          "height": 34
        }
      },
      "source": [
        "predict_img = image.load_img('download.png', target_size = (img_width, img_height))\n",
        "predict_img = image.img_to_array(predict_img)\n",
        "predict_img = np.expand_dims(predict_img, axis = 0)\n",
        "\n",
        "result = np.round(model.predict(predict_img), decimals=0)\n",
        "print(np.round(result, decimals=0))"
      ],
      "execution_count": 0,
      "outputs": [
        {
          "output_type": "stream",
          "text": [
            "[[1.]]\n"
          ],
          "name": "stdout"
        }
      ]
    },
    {
      "cell_type": "code",
      "metadata": {
        "colab_type": "code",
        "id": "bP9ZIlONIoH3",
        "colab": {}
      },
      "source": [
        ""
      ],
      "execution_count": 0,
      "outputs": []
    }
  ]
}