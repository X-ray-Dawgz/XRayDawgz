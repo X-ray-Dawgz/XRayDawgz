{
 "cells": [
  {
   "cell_type": "code",
   "execution_count": 40,
   "metadata": {},
   "outputs": [],
   "source": [
    "import numpy as np\n",
    "from PIL import Image\n",
    "import os"
   ]
  },
  {
   "cell_type": "code",
   "execution_count": 88,
   "metadata": {},
   "outputs": [],
   "source": [
    "def BCC_test():\n",
    "    BCC_test_tmp=[]\n",
    "    for file in os.listdir(\"Images/BCC_test\"):\n",
    "        if file == \".DS_Store\":\n",
    "            pass\n",
    "        img = Image.open(\"Images/BCC_test\"+\"/\"+file)\n",
    "        image_file = img.convert('L')\n",
    "        img_convert_ndarray = np.array(image_file)\n",
    "        BCC_test_tmp.append(img_convert_ndarray)\n",
    "    return BCC_test_tmp\n",
    "    "
   ]
  },
  {
   "cell_type": "code",
   "execution_count": 89,
   "metadata": {},
   "outputs": [],
   "source": [
    "def FCC_test():\n",
    "    FCC_test_tmp=[]\n",
    "    for file in os.listdir(\"Images/FCC_test\"):\n",
    "        if file == \".DS_Store\":\n",
    "            pass\n",
    "        img = Image.open(\"Images/FCC_test\"+\"/\"+file)\n",
    "        image_file = img.convert('L')\n",
    "        img_convert_ndarray = np.array(image_file)\n",
    "        FCC_test_tmp.append(img_convert_ndarray)\n",
    "    return FCC_test_tmp"
   ]
  },
  {
   "cell_type": "code",
   "execution_count": 90,
   "metadata": {},
   "outputs": [],
   "source": [
    "def BCC_train():\n",
    "    BCC_train_tmp=[]\n",
    "    for file in os.listdir(\"Images/BCC_train\"):\n",
    "        if file == \".DS_Store\":\n",
    "            pass\n",
    "        else:\n",
    "            img = Image.open(\"Images/BCC_train\"+\"/\"+file)\n",
    "            image_file = img.convert('L')\n",
    "            img_convert_ndarray = np.array(image_file)\n",
    "            BCC_train_tmp.append(img_convert_ndarray)\n",
    "    return BCC_train_tmp"
   ]
  },
  {
   "cell_type": "code",
   "execution_count": 91,
   "metadata": {},
   "outputs": [],
   "source": [
    "def FCC_train():\n",
    "    FCC_train_tmp=[]\n",
    "    for file in os.listdir(\"Images/FCC_train\"):\n",
    "        if file == \".DS_Store\":\n",
    "            pass\n",
    "        else:\n",
    "            img = Image.open(\"Images/FCC_train\"+\"/\"+file)\n",
    "            image_file = img.convert('L')\n",
    "            img_convert_ndarray = np.array(image_file)\n",
    "            FCC_train_tmp.append(img_convert_ndarray)\n",
    "    return FCC_train_tmp"
   ]
  },
  {
   "cell_type": "code",
   "execution_count": null,
   "metadata": {},
   "outputs": [],
   "source": []
  }
 ],
 "metadata": {
  "kernelspec": {
   "display_name": "Python 3",
   "language": "python",
   "name": "python3"
  },
  "language_info": {
   "codemirror_mode": {
    "name": "ipython",
    "version": 3
   },
   "file_extension": ".py",
   "mimetype": "text/x-python",
   "name": "python",
   "nbconvert_exporter": "python",
   "pygments_lexer": "ipython3",
   "version": "3.7.4"
  }
 },
 "nbformat": 4,
 "nbformat_minor": 2
}
