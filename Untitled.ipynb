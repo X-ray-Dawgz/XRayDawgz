{
 "cells": [
  {
   "cell_type": "code",
   "execution_count": 14,
   "metadata": {
    "scrolled": true
   },
   "outputs": [
    {
     "ename": "ImportError",
     "evalue": "cannot import name 'load_weights' from 'keras.models' (/opt/anaconda3/lib/python3.7/site-packages/keras/models.py)",
     "output_type": "error",
     "traceback": [
      "\u001b[0;31m---------------------------------------------------------------------------\u001b[0m",
      "\u001b[0;31mImportError\u001b[0m                               Traceback (most recent call last)",
      "\u001b[0;32m<ipython-input-14-bc89f4016bf8>\u001b[0m in \u001b[0;36m<module>\u001b[0;34m\u001b[0m\n\u001b[0;32m----> 1\u001b[0;31m \u001b[0;32mfrom\u001b[0m \u001b[0mkeras\u001b[0m\u001b[0;34m.\u001b[0m\u001b[0mmodels\u001b[0m \u001b[0;32mimport\u001b[0m \u001b[0mload_weights\u001b[0m\u001b[0;34m\u001b[0m\u001b[0;34m\u001b[0m\u001b[0m\n\u001b[0m\u001b[1;32m      2\u001b[0m \u001b[0mmodel\u001b[0m\u001b[0;34m.\u001b[0m\u001b[0mh5\u001b[0m\u001b[0;34m\u001b[0m\u001b[0;34m\u001b[0m\u001b[0m\n",
      "\u001b[0;31mImportError\u001b[0m: cannot import name 'load_weights' from 'keras.models' (/opt/anaconda3/lib/python3.7/site-packages/keras/models.py)"
     ]
    }
   ],
   "source": [
    "from keras.models import load_weights\n",
    "model.h5"
   ]
  },
  {
   "cell_type": "code",
   "execution_count": 3,
   "metadata": {},
   "outputs": [
    {
     "name": "stdout",
     "output_type": "stream",
     "text": [
      "CNN.ipynb\r\n",
      "CNN_test_0312.ipynb\r\n",
      "Image_Preprocess.ipynb\r\n",
      "Image_Preprocess.py\r\n",
      "\u001b[34mImages\u001b[m\u001b[m/\r\n",
      "LICENSE\r\n",
      "Most_Updated_CS_Classifier.ipynb\r\n",
      "README.md\r\n",
      "Untitled.ipynb\r\n",
      "With_new_testset_Updated_CS_Classifier.ipynb\r\n",
      "\u001b[34mXRayDawgz\u001b[m\u001b[m/\r\n",
      "banner.png\r\n",
      "best_model.h5\r\n",
      "\u001b[34mcut_image\u001b[m\u001b[m/\r\n",
      "\u001b[34mdocs\u001b[m\u001b[m/\r\n",
      "environment.yml\r\n",
      "package.json\r\n",
      "requirements.txt\r\n",
      "setup.py\r\n",
      "\u001b[34mtest\u001b[m\u001b[m/\r\n",
      "\u001b[34mtest 2\u001b[m\u001b[m/\r\n"
     ]
    }
   ],
   "source": [
    "ls"
   ]
  },
  {
   "cell_type": "code",
   "execution_count": null,
   "metadata": {},
   "outputs": [],
   "source": []
  }
 ],
 "metadata": {
  "kernelspec": {
   "display_name": "Python 3",
   "language": "python",
   "name": "python3"
  },
  "language_info": {
   "codemirror_mode": {
    "name": "ipython",
    "version": 3
   },
   "file_extension": ".py",
   "mimetype": "text/x-python",
   "name": "python",
   "nbconvert_exporter": "python",
   "pygments_lexer": "ipython3",
   "version": "3.7.4"
  }
 },
 "nbformat": 4,
 "nbformat_minor": 2
}
