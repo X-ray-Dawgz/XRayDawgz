{
  "nbformat": 4,
  "nbformat_minor": 0,
  "metadata": {
    "colab": {
      "name": "Most_Updated_CS_Classifier.ipynb",
      "provenance": [],
      "include_colab_link": true
    },
    "kernelspec": {
      "name": "python3",
      "display_name": "Python 3"
    },
    "accelerator": "GPU"
  },
  "cells": [
    {
      "cell_type": "markdown",
      "metadata": {
        "id": "view-in-github",
        "colab_type": "text"
      },
      "source": [
        "<a href=\"https://colab.research.google.com/github/X-ray-Dawgz/XRayDawgz/blob/rob/With_new_testset_Updated_CS_Classifier.ipynb\" target=\"_parent\"><img src=\"https://colab.research.google.com/assets/colab-badge.svg\" alt=\"Open In Colab\"/></a>"
      ]
    },
    {
      "cell_type": "code",
      "metadata": {
        "id": "6GKnYQho58UL",
        "colab_type": "code",
        "outputId": "de156827-9630-4562-d4ed-5bbaaaa771bd",
        "colab": {
          "base_uri": "https://localhost:8080/",
          "height": 158
        }
      },
      "source": [
        "!git clone -b master https://github.com/X-ray-Dawgz/XRayDawgz.git"
      ],
      "execution_count": 1,
      "outputs": [
        {
          "output_type": "stream",
          "text": [
            "Cloning into 'XRayDawgz'...\n",
            "remote: Enumerating objects: 26, done.\u001b[K\n",
            "remote: Counting objects: 100% (26/26), done.\u001b[K\n",
            "remote: Compressing objects: 100% (25/25), done.\u001b[K\n",
            "remote: Total 3986 (delta 11), reused 4 (delta 1), pack-reused 3960\u001b[K\n",
            "Receiving objects: 100% (3986/3986), 125.49 MiB | 35.45 MiB/s, done.\n",
            "Resolving deltas: 100% (449/449), done.\n",
            "Checking out files: 100% (9033/9033), done.\n"
          ],
          "name": "stdout"
        }
      ]
    },
    {
      "cell_type": "code",
      "metadata": {
        "id": "JfqjQhXy5_O5",
        "colab_type": "code",
        "colab": {
          "base_uri": "https://localhost:8080/",
          "height": 99
        },
        "outputId": "4b0ceef3-7b42-41b5-c07a-968b74c1ef15"
      },
      "source": [
        "from keras.preprocessing.image import ImageDataGenerator\n",
        "from keras.models import Sequential\n",
        "from keras.layers import Conv2D, MaxPooling2D, ZeroPadding2D, BatchNormalization\n",
        "from keras.layers import Activation, Dropout, Flatten, Dense\n",
        "from keras import backend as K\n",
        "from keras.preprocessing import image\n",
        "from tensorflow import keras\n",
        "\n",
        "import numpy as np\n",
        "import os\n",
        "import matplotlib.pyplot as plt"
      ],
      "execution_count": 2,
      "outputs": [
        {
          "output_type": "stream",
          "text": [
            "Using TensorFlow backend.\n"
          ],
          "name": "stderr"
        },
        {
          "output_type": "display_data",
          "data": {
            "text/html": [
              "<p style=\"color: red;\">\n",
              "The default version of TensorFlow in Colab will soon switch to TensorFlow 2.x.<br>\n",
              "We recommend you <a href=\"https://www.tensorflow.org/guide/migrate\" target=\"_blank\">upgrade</a> now \n",
              "or ensure your notebook will continue to use TensorFlow 1.x via the <code>%tensorflow_version 1.x</code> magic:\n",
              "<a href=\"https://colab.research.google.com/notebooks/tensorflow_version.ipynb\" target=\"_blank\">more info</a>.</p>\n"
            ],
            "text/plain": [
              "<IPython.core.display.HTML object>"
            ]
          },
          "metadata": {
            "tags": []
          }
        }
      ]
    },
    {
      "cell_type": "code",
      "metadata": {
        "id": "76cWGv89hURq",
        "colab_type": "code",
        "outputId": "c7ff052c-5253-41c0-f1bf-b71a5bbccc64",
        "colab": {
          "base_uri": "https://localhost:8080/",
          "height": 52
        }
      },
      "source": [
        "# image size\n",
        "img_width, img_height = 379,288\n",
        "# train and test sample sizes\n",
        "train_samples = 665\n",
        "test_samples = 98\n",
        "# set weights\n",
        "epochs = 75\n",
        "batch_size = 20\n",
        "# Directories of train and test data\n",
        "train_dir = 'XRayDawgz/cut_image/Train'\n",
        "test_dir = 'XRayDawgz/cut_image/Test'\n",
        "\n",
        "# data image augmentation to create more variation of XRD patterns\n",
        "train_data = ImageDataGenerator(rescale=1. / 255,\n",
        "                                shear_range=0.2,\n",
        "                                zoom_range=0.2,\n",
        "                                horizontal_flip=True)\n",
        "\n",
        "# only resize for test data\n",
        "test_data = ImageDataGenerator(rescale=1. / 255)\n",
        "\n",
        "# import train data consisting of 'binary' or  2 classifications (BCC or FCC) \n",
        "train_gen = train_data.flow_from_directory(train_dir, target_size=(img_width, img_height),\n",
        "                                           batch_size=batch_size,\n",
        "                                           class_mode='binary',)\n",
        "\n",
        "# import test data consisting of 'binary' or  2 classifications (BCC or FCC) \n",
        "test_gen = test_data.flow_from_directory(test_dir, target_size=(img_width, img_height),\n",
        "                                         batch_size=batch_size,\n",
        "                                         class_mode='binary')"
      ],
      "execution_count": 3,
      "outputs": [
        {
          "output_type": "stream",
          "text": [
            "Found 1330 images belonging to 2 classes.\n",
            "Found 196 images belonging to 2 classes.\n"
          ],
          "name": "stdout"
        }
      ]
    },
    {
      "cell_type": "code",
      "metadata": {
        "id": "IPKycr-r6Br_",
        "colab_type": "code",
        "colab": {
          "base_uri": "https://localhost:8080/",
          "height": 407
        },
        "outputId": "c9efc456-c916-4a8b-f758-5e4fa25120ac"
      },
      "source": [
        "# build CNN model\n",
        "model = Sequential()\n",
        "# extract features by iterating across image\n",
        "\n",
        "model.add(Conv2D(32, (3, 3), activation='relu',\n",
        "                 input_shape=(img_width, img_height, 3)))\n",
        "model.add(MaxPooling2D(pool_size=(2, 2)))\n",
        "model.add(Dropout(0.15))\n",
        "\n",
        "model.add(Conv2D(64, (3, 3), activation='relu',\n",
        "                 input_shape=(img_width, img_height, 3)))\n",
        "model.add(MaxPooling2D(pool_size=(2, 2)))\n",
        "model.add(Dropout(0.15))\n",
        "\n",
        "model.add(Conv2D(96, (3, 3), activation='relu',\n",
        "                 input_shape=(img_width, img_height, 3)))\n",
        "model.add(MaxPooling2D(pool_size=(2, 2)))\n",
        "model.add(Dropout(0.15))\n",
        "\n",
        "model.add(Flatten())\n",
        "model.add(Dense(64, activation='relu'))\n",
        "model.add(Dropout(0.6))\n",
        "model.add(Dense(1))\n",
        "model.add(Activation('sigmoid'))\n",
        "# model.summary()\n",
        "\n",
        "# compile model\n",
        "model.compile(loss='binary_crossentropy', optimizer='rmsprop', metrics=['accuracy'])"
      ],
      "execution_count": 4,
      "outputs": [
        {
          "output_type": "stream",
          "text": [
            "WARNING:tensorflow:From /usr/local/lib/python3.6/dist-packages/keras/backend/tensorflow_backend.py:66: The name tf.get_default_graph is deprecated. Please use tf.compat.v1.get_default_graph instead.\n",
            "\n",
            "WARNING:tensorflow:From /usr/local/lib/python3.6/dist-packages/keras/backend/tensorflow_backend.py:541: The name tf.placeholder is deprecated. Please use tf.compat.v1.placeholder instead.\n",
            "\n",
            "WARNING:tensorflow:From /usr/local/lib/python3.6/dist-packages/keras/backend/tensorflow_backend.py:4432: The name tf.random_uniform is deprecated. Please use tf.random.uniform instead.\n",
            "\n",
            "WARNING:tensorflow:From /usr/local/lib/python3.6/dist-packages/keras/backend/tensorflow_backend.py:4267: The name tf.nn.max_pool is deprecated. Please use tf.nn.max_pool2d instead.\n",
            "\n",
            "WARNING:tensorflow:From /usr/local/lib/python3.6/dist-packages/keras/backend/tensorflow_backend.py:148: The name tf.placeholder_with_default is deprecated. Please use tf.compat.v1.placeholder_with_default instead.\n",
            "\n",
            "WARNING:tensorflow:From /usr/local/lib/python3.6/dist-packages/keras/backend/tensorflow_backend.py:3733: calling dropout (from tensorflow.python.ops.nn_ops) with keep_prob is deprecated and will be removed in a future version.\n",
            "Instructions for updating:\n",
            "Please use `rate` instead of `keep_prob`. Rate should be set to `rate = 1 - keep_prob`.\n",
            "WARNING:tensorflow:Large dropout rate: 0.6 (>0.5). In TensorFlow 2.x, dropout() uses dropout rate instead of keep_prob. Please ensure that this is intended.\n",
            "WARNING:tensorflow:From /usr/local/lib/python3.6/dist-packages/keras/optimizers.py:793: The name tf.train.Optimizer is deprecated. Please use tf.compat.v1.train.Optimizer instead.\n",
            "\n",
            "WARNING:tensorflow:From /usr/local/lib/python3.6/dist-packages/keras/backend/tensorflow_backend.py:3657: The name tf.log is deprecated. Please use tf.math.log instead.\n",
            "\n",
            "WARNING:tensorflow:From /tensorflow-1.15.0/python3.6/tensorflow_core/python/ops/nn_impl.py:183: where (from tensorflow.python.ops.array_ops) is deprecated and will be removed in a future version.\n",
            "Instructions for updating:\n",
            "Use tf.where in 2.0, which has the same broadcast rule as np.where\n"
          ],
          "name": "stdout"
        }
      ]
    },
    {
      "cell_type": "code",
      "metadata": {
        "id": "8O5RabJK6CHW",
        "colab_type": "code",
        "outputId": "9b661c88-ec84-42a1-9906-74e4e0c99c19",
        "colab": {
          "base_uri": "https://localhost:8080/",
          "height": 1000
        }
      },
      "source": [
        "# train model\n",
        "cs_classification = model.fit_generator(train_gen,\n",
        "                    steps_per_epoch=train_samples // batch_size,\n",
        "                    epochs=epochs,\n",
        "                    validation_data=test_gen,\n",
        "                    validation_steps=test_samples // batch_size)"
      ],
      "execution_count": 5,
      "outputs": [
        {
          "output_type": "stream",
          "text": [
            "WARNING:tensorflow:From /usr/local/lib/python3.6/dist-packages/keras/backend/tensorflow_backend.py:1033: The name tf.assign_add is deprecated. Please use tf.compat.v1.assign_add instead.\n",
            "\n",
            "WARNING:tensorflow:From /usr/local/lib/python3.6/dist-packages/keras/backend/tensorflow_backend.py:1020: The name tf.assign is deprecated. Please use tf.compat.v1.assign instead.\n",
            "\n",
            "WARNING:tensorflow:From /usr/local/lib/python3.6/dist-packages/keras/backend/tensorflow_backend.py:3005: The name tf.Session is deprecated. Please use tf.compat.v1.Session instead.\n",
            "\n",
            "Epoch 1/75\n",
            "WARNING:tensorflow:From /usr/local/lib/python3.6/dist-packages/keras/backend/tensorflow_backend.py:190: The name tf.get_default_session is deprecated. Please use tf.compat.v1.get_default_session instead.\n",
            "\n",
            "WARNING:tensorflow:From /usr/local/lib/python3.6/dist-packages/keras/backend/tensorflow_backend.py:197: The name tf.ConfigProto is deprecated. Please use tf.compat.v1.ConfigProto instead.\n",
            "\n",
            "WARNING:tensorflow:From /usr/local/lib/python3.6/dist-packages/keras/backend/tensorflow_backend.py:207: The name tf.global_variables is deprecated. Please use tf.compat.v1.global_variables instead.\n",
            "\n",
            "WARNING:tensorflow:From /usr/local/lib/python3.6/dist-packages/keras/backend/tensorflow_backend.py:216: The name tf.is_variable_initialized is deprecated. Please use tf.compat.v1.is_variable_initialized instead.\n",
            "\n",
            "WARNING:tensorflow:From /usr/local/lib/python3.6/dist-packages/keras/backend/tensorflow_backend.py:223: The name tf.variables_initializer is deprecated. Please use tf.compat.v1.variables_initializer instead.\n",
            "\n",
            "33/33 [==============================] - 26s 800ms/step - loss: 1.5222 - acc: 0.4848 - val_loss: 0.6938 - val_acc: 0.4250\n",
            "Epoch 2/75\n",
            "33/33 [==============================] - 16s 494ms/step - loss: 0.6958 - acc: 0.5121 - val_loss: 0.6928 - val_acc: 0.5375\n",
            "Epoch 3/75\n",
            "33/33 [==============================] - 17s 504ms/step - loss: 0.7153 - acc: 0.4712 - val_loss: 0.6931 - val_acc: 0.5132\n",
            "Epoch 4/75\n",
            "33/33 [==============================] - 17s 506ms/step - loss: 0.6934 - acc: 0.4727 - val_loss: 0.6931 - val_acc: 0.5250\n",
            "Epoch 5/75\n",
            "33/33 [==============================] - 16s 479ms/step - loss: 0.7117 - acc: 0.5515 - val_loss: 0.6887 - val_acc: 0.5526\n",
            "Epoch 6/75\n",
            "33/33 [==============================] - 16s 500ms/step - loss: 0.6966 - acc: 0.5288 - val_loss: 0.6941 - val_acc: 0.4375\n",
            "Epoch 7/75\n",
            "33/33 [==============================] - 16s 487ms/step - loss: 0.6989 - acc: 0.5182 - val_loss: 0.7146 - val_acc: 0.4875\n",
            "Epoch 8/75\n",
            "33/33 [==============================] - 16s 494ms/step - loss: 0.7421 - acc: 0.5106 - val_loss: 0.6912 - val_acc: 0.5263\n",
            "Epoch 9/75\n",
            "33/33 [==============================] - 16s 495ms/step - loss: 0.7047 - acc: 0.5030 - val_loss: 0.6743 - val_acc: 0.5500\n",
            "Epoch 10/75\n",
            "33/33 [==============================] - 16s 487ms/step - loss: 0.6874 - acc: 0.5455 - val_loss: 0.8370 - val_acc: 0.3553\n",
            "Epoch 11/75\n",
            "33/33 [==============================] - 17s 505ms/step - loss: 0.6725 - acc: 0.5909 - val_loss: 0.6138 - val_acc: 0.7375\n",
            "Epoch 12/75\n",
            "33/33 [==============================] - 16s 485ms/step - loss: 0.6649 - acc: 0.6107 - val_loss: 0.6371 - val_acc: 0.5750\n",
            "Epoch 13/75\n",
            "33/33 [==============================] - 16s 492ms/step - loss: 0.6472 - acc: 0.6424 - val_loss: 0.5633 - val_acc: 0.8026\n",
            "Epoch 14/75\n",
            "33/33 [==============================] - 17s 504ms/step - loss: 0.6150 - acc: 0.6864 - val_loss: 0.5703 - val_acc: 0.7500\n",
            "Epoch 15/75\n",
            "33/33 [==============================] - 16s 485ms/step - loss: 0.6359 - acc: 0.6698 - val_loss: 0.5221 - val_acc: 0.7368\n",
            "Epoch 16/75\n",
            "33/33 [==============================] - 17s 503ms/step - loss: 0.6161 - acc: 0.6652 - val_loss: 0.5430 - val_acc: 0.7375\n",
            "Epoch 17/75\n",
            "33/33 [==============================] - 16s 488ms/step - loss: 0.6174 - acc: 0.6788 - val_loss: 0.6041 - val_acc: 0.6625\n",
            "Epoch 18/75\n",
            "33/33 [==============================] - 16s 483ms/step - loss: 0.5894 - acc: 0.6953 - val_loss: 0.5472 - val_acc: 0.8816\n",
            "Epoch 19/75\n",
            "33/33 [==============================] - 16s 480ms/step - loss: 0.5934 - acc: 0.6651 - val_loss: 0.4937 - val_acc: 0.8125\n",
            "Epoch 20/75\n",
            "33/33 [==============================] - 16s 478ms/step - loss: 0.5887 - acc: 0.6955 - val_loss: 0.4269 - val_acc: 0.8816\n",
            "Epoch 21/75\n",
            "33/33 [==============================] - 16s 491ms/step - loss: 0.5671 - acc: 0.6985 - val_loss: 0.5071 - val_acc: 0.7500\n",
            "Epoch 22/75\n",
            "33/33 [==============================] - 17s 502ms/step - loss: 0.5785 - acc: 0.7015 - val_loss: 0.5323 - val_acc: 0.8250\n",
            "Epoch 23/75\n",
            "33/33 [==============================] - 17s 500ms/step - loss: 0.5338 - acc: 0.7212 - val_loss: 0.3694 - val_acc: 0.8947\n",
            "Epoch 24/75\n",
            "33/33 [==============================] - 17s 505ms/step - loss: 0.5783 - acc: 0.6819 - val_loss: 0.4373 - val_acc: 0.8375\n",
            "Epoch 25/75\n",
            "33/33 [==============================] - 17s 509ms/step - loss: 0.6188 - acc: 0.7015 - val_loss: 0.4978 - val_acc: 0.7632\n",
            "Epoch 26/75\n",
            "33/33 [==============================] - 16s 500ms/step - loss: 0.5705 - acc: 0.7090 - val_loss: 0.5259 - val_acc: 0.7750\n",
            "Epoch 27/75\n",
            "33/33 [==============================] - 16s 492ms/step - loss: 0.5345 - acc: 0.7424 - val_loss: 0.4040 - val_acc: 0.9250\n",
            "Epoch 28/75\n",
            "33/33 [==============================] - 17s 502ms/step - loss: 0.5633 - acc: 0.7076 - val_loss: 0.4052 - val_acc: 0.8289\n",
            "Epoch 29/75\n",
            "33/33 [==============================] - 16s 493ms/step - loss: 0.5122 - acc: 0.7410 - val_loss: 0.4154 - val_acc: 0.7875\n",
            "Epoch 30/75\n",
            "33/33 [==============================] - 16s 495ms/step - loss: 0.5310 - acc: 0.7470 - val_loss: 0.4495 - val_acc: 0.8684\n",
            "Epoch 31/75\n",
            "33/33 [==============================] - 17s 506ms/step - loss: 0.5358 - acc: 0.7470 - val_loss: 0.4053 - val_acc: 0.9000\n",
            "Epoch 32/75\n",
            "33/33 [==============================] - 16s 482ms/step - loss: 0.4689 - acc: 0.7501 - val_loss: 0.4255 - val_acc: 0.8375\n",
            "Epoch 33/75\n",
            "33/33 [==============================] - 16s 493ms/step - loss: 0.5155 - acc: 0.7470 - val_loss: 0.4031 - val_acc: 0.8816\n",
            "Epoch 34/75\n",
            "33/33 [==============================] - 16s 484ms/step - loss: 0.4918 - acc: 0.7605 - val_loss: 0.3619 - val_acc: 0.8750\n",
            "Epoch 35/75\n",
            "33/33 [==============================] - 16s 490ms/step - loss: 0.5661 - acc: 0.7409 - val_loss: 0.3806 - val_acc: 0.8553\n",
            "Epoch 36/75\n",
            "33/33 [==============================] - 17s 504ms/step - loss: 0.4976 - acc: 0.7590 - val_loss: 0.4024 - val_acc: 0.8500\n",
            "Epoch 37/75\n",
            "33/33 [==============================] - 17s 501ms/step - loss: 0.4660 - acc: 0.7758 - val_loss: 0.3126 - val_acc: 0.9125\n",
            "Epoch 38/75\n",
            "33/33 [==============================] - 17s 518ms/step - loss: 0.4779 - acc: 0.7667 - val_loss: 0.2992 - val_acc: 0.9079\n",
            "Epoch 39/75\n",
            "33/33 [==============================] - 17s 508ms/step - loss: 0.5064 - acc: 0.7638 - val_loss: 0.4915 - val_acc: 0.7875\n",
            "Epoch 40/75\n",
            "33/33 [==============================] - 16s 499ms/step - loss: 0.5204 - acc: 0.7848 - val_loss: 0.4206 - val_acc: 0.8684\n",
            "Epoch 41/75\n",
            "33/33 [==============================] - 16s 494ms/step - loss: 0.5218 - acc: 0.7650 - val_loss: 0.4377 - val_acc: 0.8500\n",
            "Epoch 42/75\n",
            "33/33 [==============================] - 16s 485ms/step - loss: 0.4571 - acc: 0.7848 - val_loss: 0.3708 - val_acc: 0.9000\n",
            "Epoch 43/75\n",
            "33/33 [==============================] - 17s 503ms/step - loss: 0.4878 - acc: 0.7682 - val_loss: 0.3959 - val_acc: 0.8947\n",
            "Epoch 44/75\n",
            "33/33 [==============================] - 16s 498ms/step - loss: 0.4795 - acc: 0.7652 - val_loss: 0.3741 - val_acc: 0.8750\n",
            "Epoch 45/75\n",
            "33/33 [==============================] - 16s 479ms/step - loss: 0.4591 - acc: 0.7697 - val_loss: 0.2908 - val_acc: 0.9342\n",
            "Epoch 46/75\n",
            "33/33 [==============================] - 16s 483ms/step - loss: 0.4732 - acc: 0.7757 - val_loss: 0.3621 - val_acc: 0.8500\n",
            "Epoch 47/75\n",
            "33/33 [==============================] - 16s 483ms/step - loss: 0.4537 - acc: 0.7669 - val_loss: 0.5734 - val_acc: 0.8875\n",
            "Epoch 48/75\n",
            "33/33 [==============================] - 16s 500ms/step - loss: 0.4304 - acc: 0.8015 - val_loss: 0.3370 - val_acc: 0.9079\n",
            "Epoch 49/75\n",
            "33/33 [==============================] - 16s 496ms/step - loss: 0.4676 - acc: 0.7652 - val_loss: 0.4835 - val_acc: 0.8625\n",
            "Epoch 50/75\n",
            "33/33 [==============================] - 16s 485ms/step - loss: 0.4734 - acc: 0.7741 - val_loss: 0.3403 - val_acc: 0.8947\n",
            "Epoch 51/75\n",
            "33/33 [==============================] - 16s 498ms/step - loss: 0.4509 - acc: 0.7924 - val_loss: 0.2783 - val_acc: 0.9250\n",
            "Epoch 52/75\n",
            "33/33 [==============================] - 16s 485ms/step - loss: 0.4222 - acc: 0.8061 - val_loss: 0.4108 - val_acc: 0.8375\n",
            "Epoch 53/75\n",
            "33/33 [==============================] - 16s 491ms/step - loss: 0.4658 - acc: 0.7742 - val_loss: 0.4503 - val_acc: 0.8816\n",
            "Epoch 54/75\n",
            "33/33 [==============================] - 16s 499ms/step - loss: 0.4716 - acc: 0.7758 - val_loss: 0.4292 - val_acc: 0.8625\n",
            "Epoch 55/75\n",
            "33/33 [==============================] - 16s 495ms/step - loss: 0.4717 - acc: 0.7864 - val_loss: 0.3574 - val_acc: 0.8947\n",
            "Epoch 56/75\n",
            "33/33 [==============================] - 16s 498ms/step - loss: 0.4283 - acc: 0.7848 - val_loss: 0.3476 - val_acc: 0.8875\n",
            "Epoch 57/75\n",
            "33/33 [==============================] - 16s 489ms/step - loss: 0.4571 - acc: 0.7818 - val_loss: 0.3918 - val_acc: 0.8500\n",
            "Epoch 58/75\n",
            "33/33 [==============================] - 16s 489ms/step - loss: 0.4764 - acc: 0.7773 - val_loss: 0.3663 - val_acc: 0.9079\n",
            "Epoch 59/75\n",
            "33/33 [==============================] - 17s 501ms/step - loss: 0.4338 - acc: 0.7924 - val_loss: 0.5640 - val_acc: 0.7875\n",
            "Epoch 60/75\n",
            "33/33 [==============================] - 16s 491ms/step - loss: 0.4487 - acc: 0.7955 - val_loss: 0.2381 - val_acc: 0.9211\n",
            "Epoch 61/75\n",
            "33/33 [==============================] - 16s 487ms/step - loss: 0.4223 - acc: 0.8106 - val_loss: 0.5263 - val_acc: 0.7875\n",
            "Epoch 62/75\n",
            "33/33 [==============================] - 16s 485ms/step - loss: 0.4214 - acc: 0.8046 - val_loss: 0.3823 - val_acc: 0.8875\n",
            "Epoch 63/75\n",
            "33/33 [==============================] - 16s 499ms/step - loss: 0.4325 - acc: 0.8045 - val_loss: 0.3481 - val_acc: 0.8947\n",
            "Epoch 64/75\n",
            "33/33 [==============================] - 16s 491ms/step - loss: 0.4418 - acc: 0.8136 - val_loss: 0.3302 - val_acc: 0.9125\n",
            "Epoch 65/75\n",
            "33/33 [==============================] - 16s 487ms/step - loss: 0.4315 - acc: 0.7985 - val_loss: 0.3162 - val_acc: 0.9079\n",
            "Epoch 66/75\n",
            "33/33 [==============================] - 17s 501ms/step - loss: 0.4037 - acc: 0.8167 - val_loss: 0.4417 - val_acc: 0.8875\n",
            "Epoch 67/75\n",
            "33/33 [==============================] - 16s 481ms/step - loss: 0.4805 - acc: 0.7833 - val_loss: 0.5488 - val_acc: 0.7375\n",
            "Epoch 68/75\n",
            "33/33 [==============================] - 16s 493ms/step - loss: 0.4600 - acc: 0.7910 - val_loss: 0.3792 - val_acc: 0.8947\n",
            "Epoch 69/75\n",
            "33/33 [==============================] - 16s 497ms/step - loss: 0.4085 - acc: 0.8242 - val_loss: 0.1726 - val_acc: 0.9750\n",
            "Epoch 70/75\n",
            "33/33 [==============================] - 16s 496ms/step - loss: 0.4154 - acc: 0.8076 - val_loss: 0.4685 - val_acc: 0.8421\n",
            "Epoch 71/75\n",
            "33/33 [==============================] - 16s 496ms/step - loss: 0.4272 - acc: 0.8121 - val_loss: 0.4347 - val_acc: 0.8125\n",
            "Epoch 72/75\n",
            "33/33 [==============================] - 16s 491ms/step - loss: 0.4485 - acc: 0.7955 - val_loss: 0.3171 - val_acc: 0.9000\n",
            "Epoch 73/75\n",
            "33/33 [==============================] - 16s 492ms/step - loss: 0.3905 - acc: 0.8288 - val_loss: 0.7439 - val_acc: 0.7237\n",
            "Epoch 74/75\n",
            "33/33 [==============================] - 16s 489ms/step - loss: 0.4595 - acc: 0.7743 - val_loss: 0.2824 - val_acc: 0.9250\n",
            "Epoch 75/75\n",
            "33/33 [==============================] - 16s 489ms/step - loss: 0.4349 - acc: 0.8227 - val_loss: 0.4189 - val_acc: 0.8816\n"
          ],
          "name": "stdout"
        }
      ]
    },
    {
      "cell_type": "code",
      "metadata": {
        "id": "lEs2YB-c6Gg8",
        "colab_type": "code",
        "outputId": "3ed67a72-9881-4ee9-fee8-26085f7cb15a",
        "colab": {
          "base_uri": "https://localhost:8080/",
          "height": 572
        }
      },
      "source": [
        "# plot model data\n",
        "x = np.arange(0, epochs)\n",
        "fig, ax = plt.subplots(1, 2, figsize=(12, 6))\n",
        "fig.subplots_adjust(wspace=0.2)\n",
        "fig.suptitle(\"CNN Model\", y=.98, fontsize=17)\n",
        "ax[0].set_xlabel(\"Epoch Number\")\n",
        "ax[1].set_xlabel(\"Epoch Number\")\n",
        "ax[0].set_ylabel(\"Loss\")\n",
        "ax[1].set_ylabel(\"Accuracy\")\n",
        "ax[0].plot(x, cs_classification.history[\"loss\"], label=\"Training Loss\")\n",
        "ax[0].plot(x, cs_classification.history[\"val_loss\"], label=\"Validation Loss\")\n",
        "ax[1].plot(x, cs_classification.history[\"acc\"], label=\"Training Accuracy\")\n",
        "ax[1].plot(x, cs_classification.history[\"val_acc\"], label=\"Validation Accuracy\")\n",
        "ax[0].set_title('Training/Validation Loss')\n",
        "ax[1].set_title('Training/Validation Accuracy')\n",
        "ax[0].legend(loc=\"upper right\")\n",
        "ax[1].legend(loc=\"lower right\")\n",
        "print('loss: %.2f' %(np.amin(cs_classification.history[\"loss\"])))\n",
        "print('Validation loss: %.2f' %(np.amin(cs_classification.history[\"val_loss\"])))\n",
        "print('Accuracy: %.2f' %(np.amax(cs_classification.history[\"acc\"])))\n",
        "print('Validation Accuracy: %.2f' %(np.amax(cs_classification.history[\"val_acc\"])))\n",
        "print('Mean Loss: %.2f' %(np.mean(cs_classification.history[\"loss\"])))\n",
        "print('Mean Validation Loss: %.2f' %(np.mean(cs_classification.history[\"val_loss\"])))\n",
        "print('Mean Accuracy: %.2f' %(np.mean(cs_classification.history[\"acc\"])))\n",
        "print('Mean Validation Accuracy: %.2f' %(np.mean(cs_classification.history[\"val_acc\"])))"
      ],
      "execution_count": 6,
      "outputs": [
        {
          "output_type": "stream",
          "text": [
            "loss: 0.39\n",
            "Validation loss: 0.17\n",
            "Accuracy: 0.83\n",
            "Validation Accuracy: 0.97\n",
            "Mean Loss: 0.54\n",
            "Mean Validation Loss: 0.47\n",
            "Mean Accuracy: 0.72\n",
            "Mean Validation Accuracy: 0.80\n"
          ],
          "name": "stdout"
        },
        {
          "output_type": "display_data",
          "data": {
            "image/png": "[encoded data removed]",
            "text/plain": [
              "<Figure size 864x432 with 2 Axes>"
            ]
          },
          "metadata": {
            "tags": []
          }
        }
      ]
    },
    {
      "cell_type": "code",
      "metadata": {
        "id": "cNs6WD236Px0",
        "colab_type": "code",
        "outputId": "0190ded7-e60c-4b23-a460-5b47a0317360",
        "colab": {
          "base_uri": "https://localhost:8080/",
          "height": 52
        }
      },
      "source": [
        "# run model iterating to predict FCC or BCC test images\n",
        "BCC_test_dir = 'XRayDawgz/XRayDawgz/Images/Test/BCC_test/'\n",
        "FCC_test_dir = 'XRayDawgz/XRayDawgz/Images/Test/FCC_test/'\n",
        "\n",
        "BCC_Prediction = np.zeros(test_samples)\n",
        "FCC_Prediction = np.zeros(test_samples)\n",
        "i=0\n",
        "correct_count=0\n",
        "for file in os.listdir(BCC_test_dir):\n",
        "  predict_img_BCC = image.load_img(BCC_test_dir + file, target_size = (img_width, img_height))\n",
        "  predict_img_BCC = image.img_to_array(predict_img_BCC)\n",
        "  predict_img_BCC = np.expand_dims(predict_img_BCC, axis = 0)\n",
        "  result = model.predict(predict_img_BCC)\n",
        "  if np.round(result, 0) == 0:\n",
        "    correct_count += 1\n",
        "  else:\n",
        "    pass\n",
        "print('BCC prediction accuracy: %.2f' % ((correct_count / test_samples)*100) + '%')\n",
        "\n",
        "i=0\n",
        "correct_count=0\n",
        "for file in os.listdir(FCC_test_dir):\n",
        "  predict_img_FCC = image.load_img(FCC_test_dir + file, target_size = (img_width, img_height))\n",
        "  predict_img_FCC = image.img_to_array(predict_img_FCC)\n",
        "  predict_img_FCC = np.expand_dims(predict_img_FCC, axis = 0)\n",
        "  result = model.predict(predict_img_FCC)\n",
        "  if np.round(result, 0) == 1:\n",
        "    correct_count += 1\n",
        "  else:\n",
        "    pass\n",
        "print('FCC prediction accuracy: %.2f' % ((correct_count / test_samples)*100) + '%')"
      ],
      "execution_count": 7,
      "outputs": [
        {
          "output_type": "stream",
          "text": [
            "BCC prediction accuracy: 63.27%\n",
            "FCC prediction accuracy: 93.88%\n"
          ],
          "name": "stdout"
        }
      ]
    },
    {
      "cell_type": "code",
      "metadata": {
        "id": "565Snm2noa4B",
        "colab_type": "code",
        "colab": {}
      },
      "source": [
        "model.save('XRayDawgz/XRayDawgz/classification_modelv3.h5')"
      ],
      "execution_count": 0,
      "outputs": []
    },
    {
      "cell_type": "code",
      "metadata": {
        "id": "CNceJ0dEF2PM",
        "colab_type": "code",
        "colab": {
          "base_uri": "https://localhost:8080/",
          "height": 107
        },
        "outputId": "454d2cca-e576-4031-930c-c0dddfd0db38"
      },
      "source": [
        "new_model = keras.models.load_model('XRayDawgz/XRayDawgz/classification_modelv3.h5')"
      ],
      "execution_count": 9,
      "outputs": [
        {
          "output_type": "stream",
          "text": [
            "WARNING:tensorflow:From /tensorflow-1.15.0/python3.6/tensorflow_core/python/ops/resource_variable_ops.py:1630: calling BaseResourceVariable.__init__ (from tensorflow.python.ops.resource_variable_ops) with constraint is deprecated and will be removed in a future version.\n",
            "Instructions for updating:\n",
            "If using Keras pass *_constraint arguments to layers.\n",
            "WARNING:tensorflow:Large dropout rate: 0.6 (>0.5). In TensorFlow 2.x, dropout() uses dropout rate instead of keep_prob. Please ensure that this is intended.\n"
          ],
          "name": "stdout"
        }
      ]
    },
    {
      "cell_type": "code",
      "metadata": {
        "id": "zHDTp1mgG0nm",
        "colab_type": "code",
        "colab": {}
      },
      "source": [
        ""
      ],
      "execution_count": 0,
      "outputs": []
    }
  ]
}