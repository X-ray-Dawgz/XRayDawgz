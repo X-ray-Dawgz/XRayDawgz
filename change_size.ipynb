{
 "cells": [
  {
   "cell_type": "code",
   "execution_count": 1,
   "metadata": {},
   "outputs": [],
   "source": [
    "import numpy as np\n",
    "from PIL import Image\n",
    "import os"
   ]
  },
  {
   "cell_type": "code",
   "execution_count": 2,
   "metadata": {},
   "outputs": [],
   "source": [
    "def is_img(ext):\n",
    "    ext = ext.lower()\n",
    "    if ext == '.jpg':\n",
    "        return True\n",
    "    elif ext == '.png':\n",
    "        return True\n",
    "    elif ext == '.jpeg':\n",
    "        return True\n",
    "    elif ext == '.bmp':\n",
    "        return True\n",
    "    else:\n",
    "        return False"
   ]
  },
  {
   "cell_type": "code",
   "execution_count": 3,
   "metadata": {},
   "outputs": [],
   "source": [
    "for file in os.listdir(\"Test/BCC_test\"):\n",
    "    if is_img(os.path.splitext(file)[1]):\n",
    "        img = Image.open(\"Test/BCC_test\"+\"/\"+file)\n",
    "        cropped = img.crop((53, 0, 432, 288))  # (left, upper, right, lower\n",
    "        cropped.save(\"cut_image/Test/BCC_test\"+\"/\"+file)"
   ]
  },
  {
   "cell_type": "code",
   "execution_count": 4,
   "metadata": {},
   "outputs": [],
   "source": [
    "for file in os.listdir(\"Test/FCC_test\"):\n",
    "    if is_img(os.path.splitext(file)[1]):\n",
    "        img = Image.open(\"Test/FCC_test\"+\"/\"+file)\n",
    "        cropped = img.crop((53, 0, 432, 288))  # (left, upper, right, lower\n",
    "        cropped.save(\"cut_image/Test/FCC_test\"+\"/\"+file)"
   ]
  },
  {
   "cell_type": "code",
   "execution_count": null,
   "metadata": {},
   "outputs": [],
   "source": []
  }
 ],
 "metadata": {
  "kernelspec": {
   "display_name": "Python 3",
   "language": "python",
   "name": "python3"
  },
  "language_info": {
   "codemirror_mode": {
    "name": "ipython",
    "version": 3
   },
   "file_extension": ".py",
   "mimetype": "text/x-python",
   "name": "python",
   "nbconvert_exporter": "python",
   "pygments_lexer": "ipython3",
   "version": "3.7.6"
  }
 },
 "nbformat": 4,
 "nbformat_minor": 4
}
