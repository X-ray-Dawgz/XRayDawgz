{
 "cells": [
  {
   "cell_type": "code",
   "execution_count": 5,
   "metadata": {},
   "outputs": [],
   "source": [
    "import numpy as np\n",
    "from PIL import Image\n",
    "import os"
   ]
  },
  {
   "cell_type": "code",
   "execution_count": 6,
   "metadata": {},
   "outputs": [],
   "source": [
    "def is_img(ext):\n",
    "    ext = ext.lower()\n",
    "    if ext == '.jpg':\n",
    "        return True\n",
    "    elif ext == '.png':\n",
    "        return True\n",
    "    elif ext == '.jpeg':\n",
    "        return True\n",
    "    elif ext == '.bmp':\n",
    "        return True\n",
    "    else:\n",
    "        return False"
   ]
  },
  {
   "cell_type": "code",
   "execution_count": 9,
   "metadata": {},
   "outputs": [],
   "source": [
    "for file in os.listdir(\"Images/Train/Cubic_BCC\"):\n",
    "    if is_img(os.path.splitext(file)[1]):\n",
    "        img = Image.open(\"Images/Cubic_BCC\"+\"/\"+file)\n",
    "        cropped = img.crop((53, 0, 432, 288))  # (left, upper, right, lower\n",
    "        cropped.save(\"cut_image/Train/BCC\"+\"/\"+file)"
   ]
  },
  {
   "cell_type": "code",
   "execution_count": 10,
   "metadata": {},
   "outputs": [],
   "source": [
    "for file in os.listdir(\"Images/Train/Cubic_FCC\"):\n",
    "    if is_img(os.path.splitext(file)[1]):\n",
    "        img = Image.open(\"Images/Train/Cubic_FCC\"+\"/\"+file)\n",
    "        cropped = img.crop((53, 0, 432, 288))  # (left, upper, right, lower\n",
    "        cropped.save(\"cut_image/Train/FCC\"+\"/\"+file)"
   ]
  },
  {
   "cell_type": "code",
   "execution_count": null,
   "metadata": {},
   "outputs": [],
   "source": [
    "for file in os.listdir(\"Images/Test/Cubic_BCC\"):\n",
    "    if is_img(os.path.splitext(file)[1]):\n",
    "        img = Image.open(\"Images/Cubic_BCC\"+\"/\"+file)\n",
    "        cropped = img.crop((53, 0, 432, 288))  # (left, upper, right, lower\n",
    "        cropped.save(\"cut_image/Test/BCC\"+\"/\"+file)"
   ]
  },
  {
   "cell_type": "code",
   "execution_count": null,
   "metadata": {},
   "outputs": [],
   "source": [
    "for file in os.listdir(\"Images/Test/Cubic_FCC\"):\n",
    "    if is_img(os.path.splitext(file)[1]):\n",
    "        img = Image.open(\"Images/Cubic_FCC\"+\"/\"+file)\n",
    "        cropped = img.crop((53, 0, 432, 288))  # (left, upper, right, lower\n",
    "        cropped.save(\"cut_image/Test/FCC\"+\"/\"+file)"
   ]
  }
 ],
 "metadata": {
  "kernelspec": {
   "display_name": "Python 3",
   "language": "python",
   "name": "python3"
  },
  "language_info": {
   "codemirror_mode": {
    "name": "ipython",
    "version": 3
   },
   "file_extension": ".py",
   "mimetype": "text/x-python",
   "name": "python",
   "nbconvert_exporter": "python",
   "pygments_lexer": "ipython3",
   "version": "3.7.6"
  }
 },
 "nbformat": 4,
 "nbformat_minor": 4
}
