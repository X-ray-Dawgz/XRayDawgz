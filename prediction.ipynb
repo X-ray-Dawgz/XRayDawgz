{
 "cells": [
  {
   "cell_type": "code",
   "execution_count": null,
   "metadata": {},
   "outputs": [],
   "source": [
    "from tensorflow import keras\n",
    "from eras.preprocessing import image\n",
    "import os\n",
    "import numpy as np"
   ]
  },
  {
   "cell_type": "code",
   "execution_count": null,
   "metadata": {},
   "outputs": [],
   "source": [
    "new_model = keras.models.load_model('Model_92_86.h5')"
   ]
  },
  {
   "cell_type": "code",
   "execution_count": null,
   "metadata": {},
   "outputs": [],
   "source": [
    "def predict_image(path_to_image):\n",
    "    for file in os.listder(path_to_imege):\n",
    "        predic_img = image.load_img(path_to_imege = file, \n",
    "                                    target_size=(432,288))\n",
    "        predic_img = image.img_to_array(predict_img) \n",
    "        predic_img = np.expand_dims(predict_img,axis = 0)\n",
    "        result = new_model.predict(predict_img)\n",
    "        if np.round(result,0) == 0:\n",
    "            print(str(file) + 'is BCC') \n",
    "        else:\n",
    "            print(str(file) + 'is FCC') "
   ]
  }
 ],
 "metadata": {
  "kernelspec": {
   "display_name": "Python 3",
   "language": "python",
   "name": "python3"
  },
  "language_info": {
   "codemirror_mode": {
    "name": "ipython",
    "version": 3
   },
   "file_extension": ".py",
   "mimetype": "text/x-python",
   "name": "python",
   "nbconvert_exporter": "python",
   "pygments_lexer": "ipython3",
   "version": "3.7.4"
  }
 },
 "nbformat": 4,
 "nbformat_minor": 2
}
