{
 "cells": [
  {
   "cell_type": "code",
   "execution_count": 1,
   "metadata": {},
   "outputs": [
    {
     "name": "stdout",
     "output_type": "stream",
     "text": [
      "Requirement already up-to-date: xraydawgz in /home/robertbiegaj/anaconda3/lib/python3.7/site-packages (0.3)\n",
      "Requirement already satisfied, skipping upgrade: tensorflow in /home/robertbiegaj/anaconda3/lib/python3.7/site-packages (from xraydawgz) (2.1.0)\n",
      "Requirement already satisfied, skipping upgrade: numpy in /home/robertbiegaj/anaconda3/lib/python3.7/site-packages (from xraydawgz) (1.18.1)\n",
      "Collecting keras.preprocessing\n",
      "  Using cached Keras_Preprocessing-1.1.0-py2.py3-none-any.whl (41 kB)\n",
      "Requirement already satisfied, skipping upgrade: h5py in /home/robertbiegaj/anaconda3/lib/python3.7/site-packages (from xraydawgz) (2.10.0)\n",
      "Requirement already satisfied, skipping upgrade: tensorboard<2.2.0,>=2.1.0 in /home/robertbiegaj/anaconda3/lib/python3.7/site-packages (from tensorflow->xraydawgz) (2.1.1)\n",
      "Requirement already satisfied, skipping upgrade: tensorflow-estimator<2.2.0,>=2.1.0rc0 in /home/robertbiegaj/anaconda3/lib/python3.7/site-packages (from tensorflow->xraydawgz) (2.1.0)\n",
      "Requirement already satisfied, skipping upgrade: protobuf>=3.8.0 in /home/robertbiegaj/anaconda3/lib/python3.7/site-packages (from tensorflow->xraydawgz) (3.11.3)\n",
      "Requirement already satisfied, skipping upgrade: six>=1.12.0 in /home/robertbiegaj/anaconda3/lib/python3.7/site-packages (from tensorflow->xraydawgz) (1.14.0)\n",
      "Requirement already satisfied, skipping upgrade: keras-applications>=1.0.8 in /home/robertbiegaj/anaconda3/lib/python3.7/site-packages (from tensorflow->xraydawgz) (1.0.8)\n",
      "Requirement already satisfied, skipping upgrade: termcolor>=1.1.0 in /home/robertbiegaj/anaconda3/lib/python3.7/site-packages (from tensorflow->xraydawgz) (1.1.0)\n",
      "Requirement already satisfied, skipping upgrade: astor>=0.6.0 in /home/robertbiegaj/anaconda3/lib/python3.7/site-packages (from tensorflow->xraydawgz) (0.8.1)\n",
      "Requirement already satisfied, skipping upgrade: absl-py>=0.7.0 in /home/robertbiegaj/anaconda3/lib/python3.7/site-packages (from tensorflow->xraydawgz) (0.9.0)\n",
      "Requirement already satisfied, skipping upgrade: opt-einsum>=2.3.2 in /home/robertbiegaj/anaconda3/lib/python3.7/site-packages (from tensorflow->xraydawgz) (3.2.0)\n",
      "Requirement already satisfied, skipping upgrade: wheel>=0.26; python_version >= \"3\" in /home/robertbiegaj/anaconda3/lib/python3.7/site-packages (from tensorflow->xraydawgz) (0.34.2)\n",
      "Requirement already satisfied, skipping upgrade: google-pasta>=0.1.6 in /home/robertbiegaj/anaconda3/lib/python3.7/site-packages (from tensorflow->xraydawgz) (0.1.8)\n",
      "Requirement already satisfied, skipping upgrade: grpcio>=1.8.6 in /home/robertbiegaj/anaconda3/lib/python3.7/site-packages (from tensorflow->xraydawgz) (1.27.2)\n",
      "Requirement already satisfied, skipping upgrade: wrapt>=1.11.1 in /home/robertbiegaj/anaconda3/lib/python3.7/site-packages (from tensorflow->xraydawgz) (1.11.2)\n",
      "Requirement already satisfied, skipping upgrade: scipy==1.4.1; python_version >= \"3\" in /home/robertbiegaj/anaconda3/lib/python3.7/site-packages (from tensorflow->xraydawgz) (1.4.1)\n",
      "Requirement already satisfied, skipping upgrade: gast==0.2.2 in /home/robertbiegaj/anaconda3/lib/python3.7/site-packages (from tensorflow->xraydawgz) (0.2.2)\n",
      "Requirement already satisfied, skipping upgrade: google-auth-oauthlib<0.5,>=0.4.1 in /home/robertbiegaj/anaconda3/lib/python3.7/site-packages (from tensorboard<2.2.0,>=2.1.0->tensorflow->xraydawgz) (0.4.1)\n",
      "Requirement already satisfied, skipping upgrade: setuptools>=41.0.0 in /home/robertbiegaj/.local/lib/python3.7/site-packages (from tensorboard<2.2.0,>=2.1.0->tensorflow->xraydawgz) (46.0.0)\n",
      "Requirement already satisfied, skipping upgrade: werkzeug>=0.11.15 in /home/robertbiegaj/anaconda3/lib/python3.7/site-packages (from tensorboard<2.2.0,>=2.1.0->tensorflow->xraydawgz) (1.0.0)\n",
      "Requirement already satisfied, skipping upgrade: google-auth<2,>=1.6.3 in /home/robertbiegaj/anaconda3/lib/python3.7/site-packages (from tensorboard<2.2.0,>=2.1.0->tensorflow->xraydawgz) (1.11.2)\n",
      "Requirement already satisfied, skipping upgrade: requests<3,>=2.21.0 in /home/robertbiegaj/anaconda3/lib/python3.7/site-packages (from tensorboard<2.2.0,>=2.1.0->tensorflow->xraydawgz) (2.22.0)\n",
      "Requirement already satisfied, skipping upgrade: markdown>=2.6.8 in /home/robertbiegaj/anaconda3/lib/python3.7/site-packages (from tensorboard<2.2.0,>=2.1.0->tensorflow->xraydawgz) (3.2.1)\n",
      "Requirement already satisfied, skipping upgrade: requests-oauthlib>=0.7.0 in /home/robertbiegaj/anaconda3/lib/python3.7/site-packages (from google-auth-oauthlib<0.5,>=0.4.1->tensorboard<2.2.0,>=2.1.0->tensorflow->xraydawgz) (1.3.0)\n",
      "Requirement already satisfied, skipping upgrade: pyasn1-modules>=0.2.1 in /home/robertbiegaj/anaconda3/lib/python3.7/site-packages (from google-auth<2,>=1.6.3->tensorboard<2.2.0,>=2.1.0->tensorflow->xraydawgz) (0.2.8)\n",
      "Requirement already satisfied, skipping upgrade: rsa<4.1,>=3.1.4 in /home/robertbiegaj/anaconda3/lib/python3.7/site-packages (from google-auth<2,>=1.6.3->tensorboard<2.2.0,>=2.1.0->tensorflow->xraydawgz) (4.0)\n",
      "Requirement already satisfied, skipping upgrade: cachetools<5.0,>=2.0.0 in /home/robertbiegaj/anaconda3/lib/python3.7/site-packages (from google-auth<2,>=1.6.3->tensorboard<2.2.0,>=2.1.0->tensorflow->xraydawgz) (4.0.0)\n",
      "Requirement already satisfied, skipping upgrade: chardet<3.1.0,>=3.0.2 in /home/robertbiegaj/anaconda3/lib/python3.7/site-packages (from requests<3,>=2.21.0->tensorboard<2.2.0,>=2.1.0->tensorflow->xraydawgz) (3.0.4)\n",
      "Requirement already satisfied, skipping upgrade: urllib3!=1.25.0,!=1.25.1,<1.26,>=1.21.1 in /home/robertbiegaj/anaconda3/lib/python3.7/site-packages (from requests<3,>=2.21.0->tensorboard<2.2.0,>=2.1.0->tensorflow->xraydawgz) (1.25.8)\n",
      "Requirement already satisfied, skipping upgrade: certifi>=2017.4.17 in /home/robertbiegaj/anaconda3/lib/python3.7/site-packages (from requests<3,>=2.21.0->tensorboard<2.2.0,>=2.1.0->tensorflow->xraydawgz) (2019.11.28)\n",
      "Requirement already satisfied, skipping upgrade: idna<2.9,>=2.5 in /home/robertbiegaj/anaconda3/lib/python3.7/site-packages (from requests<3,>=2.21.0->tensorboard<2.2.0,>=2.1.0->tensorflow->xraydawgz) (2.8)\n",
      "Requirement already satisfied, skipping upgrade: oauthlib>=3.0.0 in /home/robertbiegaj/anaconda3/lib/python3.7/site-packages (from requests-oauthlib>=0.7.0->google-auth-oauthlib<0.5,>=0.4.1->tensorboard<2.2.0,>=2.1.0->tensorflow->xraydawgz) (3.1.0)\n",
      "Requirement already satisfied, skipping upgrade: pyasn1<0.5.0,>=0.4.6 in /home/robertbiegaj/anaconda3/lib/python3.7/site-packages (from pyasn1-modules>=0.2.1->google-auth<2,>=1.6.3->tensorboard<2.2.0,>=2.1.0->tensorflow->xraydawgz) (0.4.8)\n",
      "Installing collected packages: keras.preprocessing\n",
      "Successfully installed keras.preprocessing\n",
      "Note: you may need to restart the kernel to use updated packages.\n"
     ]
    }
   ],
   "source": [
    "pip install xraydawgz --upgrade"
   ]
  },
  {
   "cell_type": "code",
   "execution_count": 2,
   "metadata": {
    "scrolled": true
   },
   "outputs": [
    {
     "name": "stderr",
     "output_type": "stream",
     "text": [
      "Using TensorFlow backend.\n"
     ]
    }
   ],
   "source": [
    "from xraydawgz import Predict"
   ]
  },
  {
   "cell_type": "code",
   "execution_count": 3,
   "metadata": {},
   "outputs": [
    {
     "name": "stdout",
     "output_type": "stream",
     "text": [
      "Ag_data.jpg is FCC!\n",
      "Ag_google1.jpg is FCC!\n",
      "Ag_google2.jpg is FCC!\n",
      "Ag_google3.jpg is FCC!\n",
      "Al_google1.jpg is FCC!\n",
      "Al_google2.jpg is FCC!\n",
      "Al_google3.jpg is FCC!\n",
      "Al_google4.jpg is BCC!\n",
      "Au_data.jpg is FCC!\n",
      "Au_google1.jpg is FCC!\n",
      "Au_google2.jpg is BCC!\n",
      "Cu_data.jpg is FCC!\n",
      "Cu_google1.jpg is FCC!\n",
      "Cu_google2.jpg is BCC!\n",
      "Cu_google3.jpg is BCC!\n",
      "Cu_google4.jpg is FCC!\n",
      "Ni_google1.jpg is FCC!\n",
      "Ni_google2.jpg is FCC!\n",
      "Pb_google1.jpg is BCC!\n",
      "Pb_google2.jpg is FCC!\n"
     ]
    }
   ],
   "source": [
    "Predict.crystal_structure('path_to_image_folder')"
   ]
  }
 ],
 "metadata": {
  "kernelspec": {
   "display_name": "Python 3",
   "language": "python",
   "name": "python3"
  },
  "language_info": {
   "codemirror_mode": {
    "name": "ipython",
    "version": 3
   },
   "file_extension": ".py",
   "mimetype": "text/x-python",
   "name": "python",
   "nbconvert_exporter": "python",
   "pygments_lexer": "ipython3",
   "version": "3.7.6"
  }
 },
 "nbformat": 4,
 "nbformat_minor": 4
}
