{
 "cells": [
  {
   "cell_type": "code",
   "execution_count": 1,
   "metadata": {},
   "outputs": [
    {
     "name": "stderr",
     "output_type": "stream",
     "text": [
      "Using TensorFlow backend.\n"
     ]
    }
   ],
   "source": [
    "import Predict"
   ]
  },
  {
   "cell_type": "code",
   "execution_count": 2,
   "metadata": {},
   "outputs": [
    {
     "name": "stdout",
     "output_type": "stream",
     "text": [
      "Ag_data.jpg is FCC!\n",
      "Ag_google1.jpg is FCC!\n",
      "Ag_google2.jpg is FCC!\n",
      "Ag_google3.jpg is FCC!\n",
      "Al_google1.jpg is FCC!\n",
      "Al_google2.jpg is FCC!\n",
      "Al_google3.jpg is FCC!\n",
      "Al_google4.jpg is BCC!\n",
      "Au_data.jpg is FCC!\n",
      "Au_google1.jpg is FCC!\n",
      "Au_google2.jpg is BCC!\n",
      "Cu_data.jpg is FCC!\n",
      "Cu_google1.jpg is FCC!\n",
      "Cu_google2.jpg is BCC!\n",
      "Cu_google3.jpg is BCC!\n",
      "Cu_google4.jpg is FCC!\n",
      "Ni_google1.jpg is FCC!\n",
      "Ni_google2.jpg is FCC!\n",
      "Pb_google1.jpg is BCC!\n",
      "Pb_google2.jpg is FCC!\n"
     ]
    }
   ],
   "source": [
    "predict.crystal_structure('path_to_folder_containing_images')"
   ]
  },
  {
   "cell_type": "code",
   "execution_count": null,
   "metadata": {},
   "outputs": [],
   "source": []
  }
 ],
 "metadata": {
  "kernelspec": {
   "display_name": "Python 3",
   "language": "python",
   "name": "python3"
  },
  "language_info": {
   "codemirror_mode": {
    "name": "ipython",
    "version": 3
   },
   "file_extension": ".py",
   "mimetype": "text/x-python",
   "name": "python",
   "nbconvert_exporter": "python",
   "pygments_lexer": "ipython3",
   "version": "3.7.6"
  }
 },
 "nbformat": 4,
 "nbformat_minor": 4
}
