{
 "cells": [
  {
   "cell_type": "code",
   "execution_count": 3,
   "metadata": {},
   "outputs": [],
   "source": [
    "from core import *\n",
    "from core import train_gen\n",
    "from core import test_gen\n",
    "from core import CNN_model\n",
    "from core import train_model\n",
    "from core import plot_data\n",
    "\n",
    "def test_train_gen():\n",
    "    assert train_gen()\n",
    "    return\n",
    "\n",
    "def test_test_gen():\n",
    "    assert test_gen()\n",
    "    return\n",
    "\n",
    "\n",
    "def test_CNN_model():\n",
    "    assert CNN_model()\n",
    "    return\n",
    "\n",
    "def test_train_model():\n",
    "    assert train_model()\n",
    "    return\n",
    "\n",
    "def plot_data():\n",
    "    assert plot_data()\n",
    "    return\n",
    "\n"
   ]
  },
  {
   "cell_type": "code",
   "execution_count": null,
   "metadata": {},
   "outputs": [],
   "source": []
  }
 ],
 "metadata": {
  "kernelspec": {
   "display_name": "Python 3",
   "language": "python",
   "name": "python3"
  },
  "language_info": {
   "codemirror_mode": {
    "name": "ipython",
    "version": 3
   },
   "file_extension": ".py",
   "mimetype": "text/x-python",
   "name": "python",
   "nbconvert_exporter": "python",
   "pygments_lexer": "ipython3",
   "version": "3.7.4"
  }
 },
 "nbformat": 4,
 "nbformat_minor": 2
}
